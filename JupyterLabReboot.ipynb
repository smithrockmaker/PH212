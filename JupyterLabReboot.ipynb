{
 "cells": [
  {
   "cell_type": "markdown",
   "metadata": {},
   "source": [
    "# JupyterLab Reboot\n",
    "## PH 212 Lab\n",
    "### June 23, 2020\n",
    "\n",
    "So....it's been a few months since most of us worked consistently with Jupyter notebooks. For this first lab it seemed like a good approach would be to ask you to do something very similar to a lab we did in PH211. In the Rock Drop Lab you entered some data, plotted it, did a polynomial fit to that data, and finally plotted the data and the fit on a single graph. \n",
    "\n",
    "What I am going to set up here is a small subset of those operations except that I will give you a different set of data \n",
    "\n",
    "As I started into this I had my usual burst of enthusiasm for what you could get done and after working on this for several hours myself I realized I'd be wise to dial it back. Those of you who want to explore further can take on the JupyterLabRebootXT (extended version)\n",
    "\n",
    " I have zoom office hours scheduled on Monday from 11-12 and I can set up some additional time in the afternoon if you email me. Be ready to share your work via zoom if we are chatting about this.\n",
    "\n",
    "Here's the github Rock Drop Lab: [PH211 Repo: Rock Drop Lab](https://github.com/smithrockmaker/PH211/blob/master/RockDropLab.ipynb)  \n",
    "\n",
    "Remember that it's a bit of a pain to copy and paste each cell from the github so if you still have the lab you created in PH211 it would be easier to modify that.\n",
    "\n",
    "[thanks](http://jwilson.coe.uga.edu/EMAT6680Fa07/Lowe/Assignment%2012/CoolingWater.html)"
   ]
  },
  {
   "cell_type": "markdown",
   "metadata": {},
   "source": [
    "## Dependencies\n",
    "\n",
    "You would have copied this anyway so here are the dependencies you need."
   ]
  },
  {
   "cell_type": "code",
   "execution_count": 14,
   "metadata": {},
   "outputs": [
    {
     "data": {
      "text/plain": [
       "256"
      ]
     },
     "execution_count": 14,
     "metadata": {},
     "output_type": "execute_result"
    }
   ],
   "source": [
    "import numpy as np\n",
    "import matplotlib as mplot\n",
    "import matplotlib.pyplot as plt\n",
    "from numpy.polynomial import polynomial as ply"
   ]
  },
  {
   "cell_type": "markdown",
   "metadata": {},
   "source": [
    "## The Data:\n",
    "\n",
    "Here is the data for you to enter and plot. A couple of things to notice. **Thing 1:** This is an image so you will have to enter the data into your lists by hand. **Thing 2:** There is quite a bit of data. You may not need to enter every data point to get a good representation but be careful to justify any choices you make to thin out the data. Your plot MUST span the entire 30 minutes of the data.\n",
    "\n",
    "<img src=\"images/coolingdata.png\" width=\"400\" height=\"400\" />"
   ]
  },
  {
   "cell_type": "markdown",
   "metadata": {},
   "source": [
    "## Create your data lists \n",
    "\n",
    "In the next cell (a code cell) create the data lists from the image above. Be sure to consider our discussions in PH211 about choosing variable names that are meaningful to another person reading your code. Remember also our discussions about the value of placing comments in the code that tell your future self what you are about to do.  \n",
    "\n",
    "If you choose to use less than the full data set in your model this is where you will provide a brilliant justification for that choice.\n"
   ]
  },
  {
   "cell_type": "code",
   "execution_count": 1,
   "metadata": {},
   "outputs": [],
   "source": [
    "# code cell that creates the data."
   ]
  },
  {
   "cell_type": "markdown",
   "metadata": {},
   "source": [
    "## Plot the Data:\n",
    "\n",
    "Once you have entered your data in the previous cell you should be able to copy the code which generated the 'Calibration Data for Rock' plot and make modest modifications to create this data plot.  \n",
    "\n",
    "You may find the following command useful to set the size of your plot if you want it bigger than the standard size.\n",
    "```\n",
    "fig.set_size_inches(10, 9)\n",
    "```"
   ]
  },
  {
   "cell_type": "code",
   "execution_count": null,
   "metadata": {},
   "outputs": [],
   "source": [
    "# code cell that creates the plot"
   ]
  },
  {
   "cell_type": "markdown",
   "metadata": {},
   "source": [
    "## Navel Gazing:\n",
    "\n",
    "As usual I'd like to wrap this lab up with a little self reflection about the experience of recovering some of your Jupyter notebook skills. What was easy, what was hard, what had your forgotten, and what seemed like riding a bike."
   ]
  },
  {
   "cell_type": "code",
   "execution_count": null,
   "metadata": {},
   "outputs": [],
   "source": []
  }
 ],
 "metadata": {
  "kernelspec": {
   "display_name": "Python 3",
   "language": "python",
   "name": "python3"
  },
  "language_info": {
   "codemirror_mode": {
    "name": "ipython",
    "version": 3
   },
   "file_extension": ".py",
   "mimetype": "text/x-python",
   "name": "python",
   "nbconvert_exporter": "python",
   "pygments_lexer": "ipython3",
   "version": "3.7.4"
  }
 },
 "nbformat": 4,
 "nbformat_minor": 4
}
