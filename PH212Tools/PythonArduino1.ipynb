{
 "cells": [
  {
   "cell_type": "markdown",
   "metadata": {},
   "source": [
    "### Uploading Code to Arduino from Python?\n",
    "\n",
    "Here are a couple of threads that provoked this thought...\n",
    "\n",
    "[Firmata tutorial](https://roboticsbackend.com/control-arduino-with-python-and-pyfirmata-from-raspberry-pi/)  \n",
    "\n",
    "[robin2](https://forum.arduino.cc/index.php?topic=370810.msg2566409#msg2566409)  \n",
    "[another](https://forum.arduino.cc/index.php?topic=381897.0)  \n",
    "[firmata](https://realpython.com/arduino-python/)  "
   ]
  },
  {
   "cell_type": "markdown",
   "metadata": {},
   "source": [
    "## Setup\n",
    "\n",
    "First step is to load the StandardFirmata sketch onto the Arduino. This basically creates a program which will listen to and interpret commands coming from python to the Arduino. The sketch is under the Firmata menu under examples.\n",
    "\n",
    "## Libraries\n",
    "\n",
    "I installed pyfirmata from the conda-forge site. All went fine. The time library is a standard python library."
   ]
  },
  {
   "cell_type": "code",
   "execution_count": null,
   "metadata": {},
   "outputs": [],
   "source": [
    "#!/usr/bin/env python3\n",
    "import pyfirmata\n",
    "import time"
   ]
  },
  {
   "cell_type": "code",
   "execution_count": 11,
   "metadata": {},
   "outputs": [
    {
     "name": "stdout",
     "output_type": "stream",
     "text": [
      "Communication Successfully started\n",
      "Exit Flash Loop\n",
      "Done\n"
     ]
    }
   ],
   "source": [
    "## run without local import\n",
    "\n",
    "#initiate counter\n",
    "\n",
    "i=0\n",
    "\n",
    "# initialize the board. \n",
    "if __name__ == '__main__':\n",
    "    board = pyfirmata.Arduino('/dev/cu.usbmodem14101')\n",
    "    print(\"Communication Successfully started\")\n",
    "\n",
    "# This section replicates the void loop() section of a standard arduino sketch.\n",
    "    \n",
    "while i < 10:\n",
    "    board.digital[13].write(1)\n",
    "    time.sleep(.4)\n",
    "    board.digital[13].write(0)\n",
    "    time.sleep(.2)\n",
    "    i=i+1\n",
    "        \n",
    "print(\"Exit Flash Loop\")  \n",
    "\n",
    "print(\"Done\")"
   ]
  },
  {
   "cell_type": "code",
   "execution_count": null,
   "metadata": {},
   "outputs": [],
   "source": []
  }
 ],
 "metadata": {
  "kernelspec": {
   "display_name": "Python 3",
   "language": "python",
   "name": "python3"
  },
  "language_info": {
   "codemirror_mode": {
    "name": "ipython",
    "version": 3
   },
   "file_extension": ".py",
   "mimetype": "text/x-python",
   "name": "python",
   "nbconvert_exporter": "python",
   "pygments_lexer": "ipython3",
   "version": "3.8.5"
  }
 },
 "nbformat": 4,
 "nbformat_minor": 4
}
