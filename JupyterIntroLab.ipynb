{
 "cells": [
  {
   "cell_type": "markdown",
   "metadata": {},
   "source": [
    "# JupyterLab Intro\n",
    "## PH 212 Lab\n",
    "### June 6, 2020\n",
    "\n",
    "For students who have been through my PH211 they have developed some experience with JupyterLab and python notebooks. I am reposting this introductory lab in the PH212 repo as a tool/resource for students who are joining the sequence without having had that experience. \n",
    "\n",
    "As is mentioned elsewhere on the [public web for PH212](http://coccweb.cocc.edu/bemerson/PhysicsGlobal/Courses/PH212/PH212.html) getting JupyterLab installed and working on various platforms is most easily accomplished by installing Anaconda on your computer.[Instructions for installing Anaconda are here](http://coccweb.cocc.edu/bemerson/PhysicsGlobal/Courses/PH211/PH211Learning/PH211Software/PH211Softpage.html). \n",
    "\n",
    "Starting Anaconda brings up the Anaconda Navigator dashboard from which you can start a notebook window. What you will see is a document from which you can build documents like this. To follow through the rest of this introductory lab you only need to know that the + sign on the tool bar above allows you to create a new cell (block of information. The dropdown menu at the right side of the toolbar allows you to designate the cell as either a code cell (for writing python code), a markdown cell (like this one for creating documentation like a work processor but with Markdown/LaTeX style math formatting tools), or raw (which is neither of the above). \n",
    "\n",
    "Follow through the basics of creating text and simple python code in the cells below.  While it is true that you can merely copy and paste from this notebook into your notebook you will, of course, learn more if you type it in yourself. Good luck!"
   ]
  },
  {
   "cell_type": "markdown",
   "metadata": {},
   "source": [
    "Then I can write stuff like I usually do. \n",
    "If I just start a new line in the markdown text (look at what I did) the processor doesn't produce a new line when it runs the cell. To get a new line I have to be sure to leave two (2) spaces at the end of the previous line.  \n",
    "Like this.. \n",
    "\n",
    "This is what it looks like if I leave a blank line in the markdown text that I am typing.\n",
    "\n",
    "I also have access to some quick ways to create **bold** type and *italic* type and ***both***. There are lots more possibilities that are in the markdown tutorial links you can access from the [PH211 Software Resources](http://coccweb.cocc.edu/bemerson/PhysicsGlobal/Courses/PH211/PH211Learning/PH211Software/PH211Softpage.html)  page (and now you know how to make a hot link)."
   ]
  },
  {
   "cell_type": "markdown",
   "metadata": {},
   "source": [
    "## Trigonometry stuff....\n",
    "\n",
    "### Basic Identity\n",
    "\n",
    "Each of these equations renders the same (\\\\$ and \\\\$$ around the text accesses LaTeX typesetting) except that the second one is displayed centered in the cell with using alightly larger fonts.\n",
    "\n",
    "$ 1 = sin(\\theta)^2 + cos(\\theta)^2$\n",
    "\n",
    "$$ 1 = sin(\\theta)^2 + cos(\\theta)^2$$\n",
    "\n",
    "Lots of useful tools hiding in this  particular example...  \n",
    "\n",
    "$$\\int{\\frac{-e^{-ikr}}{4\\pi r}dr}= \\int{i\\sqrt{\\frac{k}{32\\pi r}} H^{(2)}_{1/2}(kr)dr}$$\n",
    "\n",
    "Yes, it's pretty ridiculous but it illustrates what is possible and the care that can be required to get it to look good....I'm trying to make sure you have the tools but you still have to work for it a little:)"
   ]
  },
  {
   "cell_type": "markdown",
   "metadata": {},
   "source": [
    "## On to some coding..\n",
    "\n",
    "It always starts with 'Hello World' so lets get that out of the way..."
   ]
  },
  {
   "cell_type": "code",
   "execution_count": 7,
   "metadata": {},
   "outputs": [
    {
     "name": "stdout",
     "output_type": "stream",
     "text": [
      "Hello World\n"
     ]
    }
   ],
   "source": [
    "print(\"Hello World\")"
   ]
  },
  {
   "cell_type": "markdown",
   "metadata": {},
   "source": [
    "### ...onwards.....\n",
    "\n",
    "That's done so now I asked you to do some basic math stuff -- add, subtract, multiply, divide, square, and square root.\n",
    "\n",
    "I am asking that you do each operation in a separate cell for starters and then combine them. See what happens if you leave out parentheses or insert extra spaces. \n",
    "\n",
    "Ignore the ```import numpy as np``` statement. We will learn about that in the future but I wanted to do powers and roots a different way so that you will need to seek out a simpler solution for this lab."
   ]
  },
  {
   "cell_type": "code",
   "execution_count": 14,
   "metadata": {},
   "outputs": [
    {
     "data": {
      "text/plain": [
       "256"
      ]
     },
     "execution_count": 14,
     "metadata": {},
     "output_type": "execute_result"
    }
   ],
   "source": [
    "import numpy as np\n",
    "(np.power(16,2.7)*34.567/12.666)*np.sin(3.5)-2.33/4*(5.2+7)+np.sqrt(545933.2)"
   ]
  },
  {
   "cell_type": "markdown",
   "metadata": {},
   "source": [
    "## Without using numpy\n",
    "\n",
    "* is multiply, / is divide, + and - are pretty clear. The only potential confusion is what to do for powers and roots -- ** gives us exponents which gives us roots as well."
   ]
  },
  {
   "cell_type": "code",
   "execution_count": 2,
   "metadata": {},
   "outputs": [
    {
     "data": {
      "text/plain": [
       "185.5763630600047"
      ]
     },
     "execution_count": 2,
     "metadata": {},
     "output_type": "execute_result"
    }
   ],
   "source": [
    "3.2**4.5 - 8**0.333"
   ]
  },
  {
   "cell_type": "markdown",
   "metadata": {},
   "source": [
    "### Assigning variables\n",
    "\n",
    "It is tremendously easy to get buried in numbers spewing out of your calculations and physics models. Learning to assign variable names that help your reader understand what you're doing is well worth the effort. We will speak more of this as we go deeper into the course."
   ]
  },
  {
   "cell_type": "code",
   "execution_count": 11,
   "metadata": {},
   "outputs": [
    {
     "name": "stdout",
     "output_type": "stream",
     "text": [
      "This is the result of the giant mess:  -975.0427897874935\n"
     ]
    }
   ],
   "source": [
    "what_a_mess = (np.power(16,2.7)*34.567/12.666)*np.sin(3.5)-2.33/4*(5.2+7)+np.sqrt(545933.2)\n",
    "print(\"This is the result of the giant mess: \", what_a_mess)"
   ]
  }
 ],
 "metadata": {
  "kernelspec": {
   "display_name": "Python 3",
   "language": "python",
   "name": "python3"
  },
  "language_info": {
   "codemirror_mode": {
    "name": "ipython",
    "version": 3
   },
   "file_extension": ".py",
   "mimetype": "text/x-python",
   "name": "python",
   "nbconvert_exporter": "python",
   "pygments_lexer": "ipython3",
   "version": "3.7.4"
  }
 },
 "nbformat": 4,
 "nbformat_minor": 4
}
