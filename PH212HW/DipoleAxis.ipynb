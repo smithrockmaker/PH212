{
 "cells": [
  {
   "cell_type": "markdown",
   "metadata": {},
   "source": [
    "# E Field: On Axis of Dipole\n",
    "## PH 212 COCC\n",
    "### Bruce Emerson 6/14/2020\n",
    "\n",
    "It is a basic tenant of physics teaching that one of the things which is often hard to learn is to reason quantitatively without numbers. This is often relevant when we know the relationship between the outcome and the characteristics of the problem that affect that outcome. In the case of charge we (hopefully) understand conceptually that changing the magnitude of either charge changes the amount of force they each experience and that the distance between the charges (or the centers of spherical distributions of charge) also affects the force. The force depends on the inverse of the square of the distance.\n",
    "\n",
    "This notebook is an attempt to provide some direct practice with those concepts."
   ]
  },
  {
   "cell_type": "markdown",
   "metadata": {},
   "source": [
    "## Dependencies\n",
    "\n",
    "This is my usual spectrum of dependencies that seem to be generally useful. We'll see if I need additional ones. The notebooks with OO at the end of the name use the older version of the numpy.random random number generators. The newer generator ```default_rng``` will be commented out in the dependencies where appropriate."
   ]
  },
  {
   "cell_type": "code",
   "execution_count": 1,
   "metadata": {},
   "outputs": [],
   "source": [
    "import numpy as np\n",
    "from decimal import Decimal\n",
    "import matplotlib as mplot\n",
    "import matplotlib.pyplot as plt\n",
    "from numpy.polynomial import polynomial as ply\n",
    "from numpy.random import default_rng\n",
    "rng = default_rng()"
   ]
  },
  {
   "cell_type": "markdown",
   "metadata": {},
   "source": [
    "## Side note: Coin Flips in numpy\n",
    "\n",
    "To generate some of the parameters (+/-) or (milli/micro) I wanted a coin flip. Foolishly I imagined if I randomly generated an integer from [0,2] NOT including the 2 I would get something like a coin flip. (rng.integer is the generator). This did not look right and eventually I discoverd that I needed to use a binomial generator with a probability of 0.5. My code looks like this now (for future reference) and it feels like its working right.\n",
    "```\n",
    "diagonal = rng.binomial(1,0.5)\n",
    "```\n",
    "Two references that were helpful:  \n",
    "[General Generator Structure](https://numpy.org/devdocs/reference/random/index.html?highlight=random%20quick%20start)  \n",
    "[Binomial Arguments](https://numpy.org/devdocs/reference/random/generated/numpy.random.Generator.binomial.html?highlight=binomial#numpy.random.Generator.binomial)\n"
   ]
  },
  {
   "cell_type": "markdown",
   "metadata": {},
   "source": [
    "## The Problem\n",
    "\n",
    "E Field on Axis of Dipole:\n",
    "\n",
    "Determine the total E field at a point along the axis (the line through the charges) that is a distance x away from the midpoint of the dipole. The charges are +4 nC and -4 nC and are separated by a distance of 14 mm. You should undertand your solution well enough to be able to determine the numerical value of the field for any value of x. The thoughtful student will explore whether their solution can be simplified when x >> 14 mm.\n",
    "\n",
    "To get the most out of this exercise the next cell is minimized and should be left so. Run the cell to generate a new version of the problem that will be plotted below."
   ]
  },
  {
   "cell_type": "code",
   "execution_count": 3,
   "metadata": {},
   "outputs": [
    {
     "data": {
      "image/png": "[encoded data removed]",
      "text/plain": [
       "<Figure size 720x288 with 1 Axes>"
      ]
     },
     "metadata": {
      "needs_background": "light"
     },
     "output_type": "display_data"
    }
   ],
   "source": [
    "# Generate the problem\n",
    "# set up and definitions\n",
    "\n",
    "kconstant = 8.99E+9\n",
    "\n",
    "# First generate the charge (same at all 4 corners)\n",
    "chargesize = rng.integers(1,100) # generate an integer between 0 and 100 # generate an integer \n",
    "exponent = rng.integers(3,10) # generate an exponent\n",
    "charge = np.float(chargesize)*10.**(-exponent)\n",
    "#print(\"Charge is: %.2E\" % charge)\n",
    "\n",
    "# Generate spacing of dipole cm\n",
    "space = rng.integers(1,100) # generate an integer between 1 and 100 in cm\n",
    "separation = float(space)\n",
    "\n",
    "# which diagonal has + charges, flip coin\n",
    "point = rng.integers(1,100) # generate an integer between 1 and 100 in cm\n",
    "axispoint = float(point) + np.trunc(separation/2.)\n",
    "\n",
    "# generate charge locations\n",
    "xq1 = -separation/2.\n",
    "yq1 = 0.\n",
    "xq2 = separation/2.\n",
    "yq2 = 0.\n",
    "dipolex = [xq1, xq2]\n",
    "dipoley = [0,0]\n",
    "\n",
    "# just controls plotted size of charge\n",
    "size = 100.\n",
    "dipolesize = [size, size]\n",
    "ptsize = 5.\n",
    "\n",
    "# stuff\n",
    "resultnumerator = kconstant*charge*2.*separation*axispoint*1.0E4\n",
    "resultdenominator = (axispoint**2 - (separation/2.)**2)**2\n",
    "result = resultnumerator/resultdenominator\n",
    "#print(\"check result %.2E N/C\" % result)\n",
    "\n",
    "# Let the plotting begin!!\n",
    "fig2, ax2 = plt.subplots()\n",
    "\n",
    "# plot + and - charges with different colors\n",
    "ax2.scatter(dipolex, dipoley, s=dipolesize, color = 'red',\n",
    "            alpha=0.6, edgecolors=\"grey\", linewidth=2)\n",
    "ax2.scatter(axispoint, 0., s=30, color = 'black',\n",
    "            alpha=0.9, edgecolors=\"black\", linewidth=2)\n",
    "\n",
    "\n",
    "# define plot limits\n",
    "xlimH = axispoint+(2*separation)\n",
    "xlimL = -2*separation\n",
    "\n",
    "plt.ylim(-2., 2.)\n",
    "plt.xlim(xlimL, xlimH)\n",
    "\n",
    "# Add titles (main and on axis)\n",
    "plt.rcParams.update({'font.size': 16}) # make labels easier to read\n",
    "ax2.set(xlabel='x (cm)', ylabel='y (cm)',\n",
    "       title='E Field on Dipole Axis')\n",
    "# label the charges\n",
    "\n",
    "labelseparation = (\"Separation: %.2f cm\" %separation)\n",
    "labelcharge = (\"Charges +/- %.2E C\" % charge)\n",
    "label3 = (\"P\")\n",
    "label4 = (\" %.2f cm.\" % axispoint)\n",
    "label5 = (\"distance from center of dipole\")\n",
    "\n",
    "\n",
    "#labelref1 = (\"side = %i cm\" % side)\n",
    "#labelref2 = (\"|Q| = %.2E C\" % (charge))\n",
    "    \n",
    "    \n",
    "ax2.text(-separation/2, -1.2, labelseparation)\n",
    "ax2.text(-separation/2, 1, labelcharge)\n",
    "ax2.text(axispoint, 0.5, label3)\n",
    "ax2.text(0.8*axispoint, -0.5, label4)\n",
    "ax2.text(axispoint - separation, -0.75, label5)\n",
    "\n",
    "\n",
    "# define display parameters\n",
    "fig2.set_size_inches(10, 4)\n",
    "# ax2.legend(loc= 2)\n",
    "ax2.grid()\n",
    "plt.show()\n",
    "\n",
    "#fig2.savefig('dipoleaxis.png')\n"
   ]
  },
  {
   "cell_type": "markdown",
   "metadata": {},
   "source": [
    "## Your Answer!\n",
    "\n",
    "Execute the cell below to check your answer. If you don't get it right you can rerun this cell and try again. The problem will remain static until you rerun the cell above this.\n",
    "\n",
    "To get the most out of this exercise minimize the next cell (click on the bar to the left) and the run the cell to generate a problem that will be plotted below."
   ]
  },
  {
   "cell_type": "code",
   "execution_count": 44,
   "metadata": {
    "hideCode": "true",
    "jupyter": {
     "source_hidden": true
    }
   },
   "outputs": [
    {
     "name": "stdout",
     "output_type": "stream",
     "text": [
      "Enter the magnitude of the force in N/C\n",
      "Enter in the form 34.5E+03 or 5.6E-04\n"
     ]
    },
    {
     "name": "stdin",
     "output_type": "stream",
     "text": [
      "Enter your result:  2.18E+03\n"
     ]
    },
    {
     "name": "stdout",
     "output_type": "stream",
     "text": [
      "You are within 20% which feels like you're doing it right. Check numbers. \n",
      "Practice makes perfect\n"
     ]
    }
   ],
   "source": [
    "# get student result\n",
    "print(\"Enter the magnitude of the force in N/C\")\n",
    "print(\"Enter in the form 34.5E+03 or 5.6E-04\")\n",
    "studentresult = float(input(\"Enter your result: \"))\n",
    "\n",
    "# check result relative to answer\n",
    "closeness = np.absolute(1.0 - (studentresult/result))\n",
    "if closeness < 0.01:\n",
    "    print(\"Yay, you nailed it!\")\n",
    "else:\n",
    "    if closeness < 0.05:\n",
    "        print(\"You are within 5% which could just be rounding errors. \")\n",
    "    else:\n",
    "        if closeness < 0.2:\n",
    "            print(\"You are within 20% which feels like you're doing it right. Check numbers. \")\n",
    "        else:\n",
    "            print(\"Probably need to run the numbers again or generate a new problem. \")\n",
    "    \n",
    "print(\"Practice makes perfect\")\n"
   ]
  },
  {
   "cell_type": "markdown",
   "metadata": {},
   "source": [
    "## Practice!!\n",
    "\n",
    "Rinse and repeat until you get it right a couple of times in a row."
   ]
  },
  {
   "cell_type": "code",
   "execution_count": null,
   "metadata": {},
   "outputs": [],
   "source": []
  }
 ],
 "metadata": {
  "kernelspec": {
   "display_name": "Python 3",
   "language": "python",
   "name": "python3"
  },
  "language_info": {
   "codemirror_mode": {
    "name": "ipython",
    "version": 3
   },
   "file_extension": ".py",
   "mimetype": "text/x-python",
   "name": "python",
   "nbconvert_exporter": "python",
   "pygments_lexer": "ipython3",
   "version": "3.8.3"
  }
 },
 "nbformat": 4,
 "nbformat_minor": 4
}
