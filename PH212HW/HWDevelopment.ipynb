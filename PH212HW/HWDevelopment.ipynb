{
 "cells": [
  {
   "cell_type": "markdown",
   "metadata": {},
   "source": [
    "# \"Homework Development\n",
    "## PH 212 COCC\n",
    "### Bruce Emerson 6/6/2020\n",
    "\n",
    "In broad strokes what I want to do is create a python tool that allows me to pose certain classes of physics problems where I can randomly generate values or settings for students to practice their skills. If I can generate similar problems with different numbers then each student can practice their calculational skills in a meaningful way. To do this I need to be able to code the calculation of the 'answer' but keep that answer unavailable to the students. This is the crux of the challenge."
   ]
  },
  {
   "cell_type": "markdown",
   "metadata": {},
   "source": [
    "## Dependencies\n",
    "\n",
    "This is my usual spectrum of dependencies that seem to be generally useful. We'll see if I need additional ones."
   ]
  },
  {
   "cell_type": "code",
   "execution_count": 1,
   "metadata": {},
   "outputs": [],
   "source": [
    "import numpy as np\n",
    "from decimal import Decimal\n",
    "import matplotlib as mplot\n",
    "import matplotlib.pyplot as plt\n",
    "from numpy.polynomial import polynomial as ply\n",
    "from numpy.random import default_rng\n",
    "rng = default_rng()"
   ]
  },
  {
   "cell_type": "markdown",
   "metadata": {},
   "source": [
    "## Random charge generator for problems\n",
    "\n",
    "I'm having an interesting problem generating the kind of distribution of possible charge values that I would like. If I want a charge value from 1 nC to 1 mC you might think that I just pick a random integer between 1 and $10^9$ and it would be good. Doesn't work so well because most of the possible integers are at the upper end of the range. I can generate a number between 1 and 100 pretty uniformly and then pick an exponent. Perhaps that will work better. Let's see."
   ]
  },
  {
   "cell_type": "code",
   "execution_count": 12,
   "metadata": {},
   "outputs": [
    {
     "name": "stdout",
     "output_type": "stream",
     "text": [
      "Charge is: 4.20E-07\n"
     ]
    }
   ],
   "source": [
    "chargesize = rng.integers(1,100) # generate an integer \n",
    "exponent = rng.integers(3,10) # generate an exponent\n",
    "\n",
    "charge = np.float(chargesize)*10.**(-exponent)\n",
    "print(\"Charge is: %.2E\" % Decimal(charge))"
   ]
  },
  {
   "cell_type": "code",
   "execution_count": 16,
   "metadata": {},
   "outputs": [
    {
     "name": "stdout",
     "output_type": "stream",
     "text": [
      "Enter the magnitude of the force in N\n",
      "Enter in the form 34.5E+03 or 5.6E-04\n"
     ]
    },
    {
     "name": "stdin",
     "output_type": "stream",
     "text": [
      "Enter your result:  65.44E-6\n"
     ]
    },
    {
     "name": "stdout",
     "output_type": "stream",
     "text": [
      "6.544e-05\n"
     ]
    }
   ],
   "source": [
    "# get student result\n",
    "print(\"Enter the magnitude of the force in N\")\n",
    "print(\"Enter in the form 34.5E+03 or 5.6E-04\")\n",
    "studentresult = float(input(\"Enter your result: \"))\n",
    "print(studentresult)"
   ]
  },
  {
   "cell_type": "code",
   "execution_count": 9,
   "metadata": {
    "hideCode": "true"
   },
   "outputs": [],
   "source": [
    "\n",
    "numbers = [0., 0., 0., 0.]\n",
    "numbers = np.random.randint(low=1, high=100, size=4)\n",
    "#print(numbers)\n",
    "result = numbers[0]+numbers[1]+numbers[3]\n",
    "#print(result)"
   ]
  },
  {
   "cell_type": "code",
   "execution_count": 3,
   "metadata": {},
   "outputs": [
    {
     "name": "stdin",
     "output_type": "stream",
     "text": [
      "Enter your result:  4\n"
     ]
    },
    {
     "name": "stdout",
     "output_type": "stream",
     "text": [
      "Oops, better try again\n"
     ]
    }
   ],
   "source": [
    "myresult = float(input(\"Enter your result: \"))\n",
    "\n",
    "if myresult == result:\n",
    "    print(\"Yay, you got it right!\")\n",
    "else:\n",
    "    print(\"Oops, better try again\")\n",
    "\n",
    "\n",
    "#print(\"value of myresult: \", myresult)\n",
    "#print(\"type of myresult: \", type(myresult))"
   ]
  },
  {
   "cell_type": "code",
   "execution_count": null,
   "metadata": {},
   "outputs": [],
   "source": []
  },
  {
   "cell_type": "markdown",
   "metadata": {},
   "source": [
    "## Data Entry (Lists/Vectors) (Deliverable I)\n",
    "\n",
    "At this point you should be getting comfortable doing data entry. You should explain what the data is and how you gathered it in this markdown cell. You should also indicate the variability of your data (x and y). You are asked to figure out a way to present your data here in the markdown cell and **not** just as a list in the code below."
   ]
  },
  {
   "cell_type": "code",
   "execution_count": 14,
   "metadata": {},
   "outputs": [
    {
     "name": "stdout",
     "output_type": "stream",
     "text": [
      "flight time: [0.0, 0.46, 0.73, 0.95, 1.11, 1.27]\n",
      "height: [0.0, 1.0, 2.0, 3.0, 4.0, 5.0]\n",
      "number of data points (x): 6\n",
      "number of data points (y): 6\n"
     ]
    }
   ],
   "source": [
    "timedata = [0., .46, .73, .95, 1.11, 1.27]\n",
    "heightdata = [0., 1., 2., 3., 4., 5.]\n",
    "\n",
    "# 2 ways to print out and check your data\n",
    "\n",
    "print(\"flight time:\",timedata)\n",
    "print(\"height:\",heightdata)\n",
    "\n",
    "timedatalength = len(timedata)\n",
    "heightdatalength = len(heightdata)\n",
    "# length counts how many 'data points' in the list\n",
    "print(\"number of data points (x):\", timedatalength)\n",
    "print(\"number of data points (y):\", heightdatalength)"
   ]
  },
  {
   "cell_type": "markdown",
   "metadata": {},
   "source": [
    "### Data Plot\n",
    "\n",
    "If you are unsure what is happening here refer to earlier labs where it has been described in more detail. \n",
    "\n"
   ]
  },
  {
   "cell_type": "code",
   "execution_count": 15,
   "metadata": {},
   "outputs": [
    {
     "data": {
      "image/png": "[encoded data removed]",
      "text/plain": [
       "<Figure size 432x288 with 1 Axes>"
      ]
     },
     "metadata": {
      "needs_background": "light"
     },
     "output_type": "display_data"
    }
   ],
   "source": [
    "\n",
    "fig, ax = plt.subplots()\n",
    "ax.scatter(timedata, heightdata)\n",
    "\n",
    "plt.rcParams.update({'font.size': 16}) # make labels easier to read\n",
    "ax.set(xlabel='drop time (s)', ylabel='drop height (m)',\n",
    "       title='Calibration Data for Rock')\n",
    "ax.grid()\n",
    "\n",
    "#fig.savefig(\"myplot.png\")\n",
    "plt.show()"
   ]
  },
  {
   "cell_type": "markdown",
   "metadata": {},
   "source": [
    "### Curve Fitting\n",
    "\n",
    "The new feature for this lab is fitting a polynomial curve to the data and trying to make sense of it.\n",
    "\n",
    "```degree``` is the order of the polynomial as in degree = 2 => quadratic polynomial with 3 coefficients.\n",
    "\n",
    "[polynomial.polynomial.polyfit](https://docs.scipy.org/doc/numpy/reference/generated/numpy.polynomial.polynomial.polyfit.html)\n",
    "\n",
    "Read the documentation and see if you can figure out what is happening in this code block."
   ]
  },
  {
   "cell_type": "code",
   "execution_count": 18,
   "metadata": {},
   "outputs": [
    {
     "data": {
      "text/plain": [
       "array([4.95953095e-04, 1.33248627e+00, 1.69276832e+00, 2.87887672e-01])"
      ]
     },
     "execution_count": 18,
     "metadata": {},
     "output_type": "execute_result"
    }
   ],
   "source": [
    "degree = 3\n",
    "coefs = ply.polyfit(timedata, heightdata,degree)\n",
    "print(\"Coefficients of polynomial fit:\", coefs)"
   ]
  },
  {
   "cell_type": "markdown",
   "metadata": {},
   "source": [
    "### Add the physics model...the curve fit and the ideal rock\n",
    "\n",
    "The model we will create here is not a linear model but it starts the same way by generating a set of 'x' values from which to generate the 'y' values give the curve fit generated above.\n",
    "\n",
    "It starts by defining a set of x values.```numpy.linspace()``` is a tool for doing this and because we did ```import numpy as np``` it shows in the code as ```np.linspace()```. Look back to previous labs if you need to refresh.\n",
    "\n",
    "[numpy.linspace documentation](https://docs.scipy.org/doc/numpy/reference/generated/numpy.linspace.html) \n",
    "\n",
    "Because it's interesting to see and not hard to do when you have access to a notebook I've included the model of an ideal rock. You can worry if you want about whether gravity in Bend is different than sea level (it is a little) but the relationship of your data, the curve fit, and the ideal rock should make sense.\n"
   ]
  },
  {
   "cell_type": "code",
   "execution_count": 39,
   "metadata": {},
   "outputs": [],
   "source": [
    "# generate x values for model of data\n",
    "maxtime = 2.0\n",
    "numpoints = 20\n",
    "modeltime = np.linspace(0.,maxtime,numpoints)\n",
    "\n",
    "# create a model height list that matches the model time\n",
    "modelheight = np.full_like(modeltime,0)\n",
    "idealrock = np.full_like(modeltime,0)\n",
    "\n",
    "# calculate the heights predicted from the model\n",
    "for i in range (0,numpoints):\n",
    "    modelheight[i] = coefs[0] + coefs[1]*modeltime[i] + \\\n",
    "        coefs[2]* modeltime[i]**2 + coefs[3]*modeltime[i]**3\n",
    "    idealrock[i] = 0.5*9.81*modeltime[i]**2\n",
    "\n",
    "# print(\"testing the output of the loop;\", modelheight)"
   ]
  },
  {
   "cell_type": "markdown",
   "metadata": {},
   "source": [
    "### Plot Data with Model (Deliverable II)\n",
    "\n",
    "Just like we've done previously with different labels etc etc"
   ]
  },
  {
   "cell_type": "code",
   "execution_count": 50,
   "metadata": {},
   "outputs": [
    {
     "data": {
      "image/png": "[encoded data removed]",
      "text/plain": [
       "<Figure size 720x648 with 1 Axes>"
      ]
     },
     "metadata": {
      "needs_background": "light"
     },
     "output_type": "display_data"
    }
   ],
   "source": [
    "fig2, ax2 = plt.subplots()\n",
    "ax2.scatter(timedata, heightdata,\n",
    "            marker = 'x', color = 'green',\n",
    "            label = \"data\")\n",
    "ax2.plot(modeltime, modelheight,\n",
    "         color = 'red', linestyle = ':',\n",
    "         linewidth = 3., label = \"model\")\n",
    "ax2.plot(modeltime, idealrock,\n",
    "         color = 'blue', linestyle = '-',\n",
    "         linewidth = 1., label = \"ideal rock\")\n",
    "\n",
    "unknown_data = 1.87\n",
    "ax2.vlines(unknown_data, 0, 12,\n",
    "         color = 'magenta', linestyle = '-',\n",
    "         linewidth = 2., label = \"unknown drop\")\n",
    "\n",
    "plt.rcParams.update({'font.size': 16}) # make labels easier to read\n",
    "ax2.set(xlabel='drop time (s)', ylabel='drop height (m)',\n",
    "       title='Experimental Data with Model')\n",
    "\n",
    "fig2.set_size_inches(10, 9)\n",
    "ax2.grid()\n",
    "\n",
    "plt.legend(loc= 2)\n",
    "plt.show()"
   ]
  },
  {
   "cell_type": "markdown",
   "metadata": {},
   "source": [
    "### Terminal Velocity? (Deliverable III)\n",
    "\n",
    "Does this data and the model suggest that your 'rock' has reached terminal velocity during this experiment? Why or why not? What would that terminal velocity be? "
   ]
  },
  {
   "cell_type": "markdown",
   "metadata": {},
   "source": [
    "### Challnege Drop\n",
    "\n",
    "Here is space to enter your measure drop time for the unknown height. From this data point and your model above predict the height of the unknown object and a numerical value for your uncertainty based on your data. I drew a line on the previous plot indicating the drop time for the unknown which you can of course edit. The intersection point on the plot should be consistent with the predicted height found below by plugging your drop time for the unknown height into the polynomial fit."
   ]
  },
  {
   "cell_type": "code",
   "execution_count": null,
   "metadata": {},
   "outputs": [],
   "source": []
  }
 ],
 "metadata": {
  "kernelspec": {
   "display_name": "Python 3",
   "language": "python",
   "name": "python3"
  },
  "language_info": {
   "codemirror_mode": {
    "name": "ipython",
    "version": 3
   },
   "file_extension": ".py",
   "mimetype": "text/x-python",
   "name": "python",
   "nbconvert_exporter": "python",
   "pygments_lexer": "ipython3",
   "version": "3.7.4"
  }
 },
 "nbformat": 4,
 "nbformat_minor": 4
}
