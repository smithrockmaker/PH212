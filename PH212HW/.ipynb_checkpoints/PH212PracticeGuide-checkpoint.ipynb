{
 "cells": [
  {
   "cell_type": "markdown",
   "metadata": {},
   "source": [
    "## Guide to Practice Problem Notebooks\n",
    "## PH 211/212213 COCC\n",
    "### Bruce Emerson 4/8/21\n",
    "\n",
    "This is likely to be a bigger project than I can realistically take on. What I am seeking to do with a subset of physics homework problems is to generate different versions of the same problem so that students can practice their problem solving skills and check their answers. There are a number of contexts in which this might be useful including conceptual ranking tasks as well as calculational tasks.\n",
    "\n",
    "This notebook is offered as a guide for how to use the practice notebooks.\n",
    "\n",
    "I would note that students can obviously 'look inside' the python code here and find the answers but I don't propose to spend any energy worrying about that. \n",
    "\n",
    "### Note: Download the Notebook!\n",
    "\n",
    "The expectation is that each student will download the notebook for the practice problem and run it on their own computer. I suspect it's possible to do this differently but it doesn't feel like it's worth the effort."
   ]
  },
  {
   "cell_type": "markdown",
   "metadata": {},
   "source": [
    "## Dependencies\n",
    "\n",
    "This is my usual spectrum of dependencies that seem to be generally useful. We'll see if I need additional ones. The notebooks with OO at the end of the name use the older version of the numpy.random random number generators. The newer generator ```default_rng``` will be commented out in the dependencies where appropriate.\n",
    "\n",
    "### Run the Dependencies First:\n",
    "\n",
    "Always run the cell with the dependencies first before proceeding to the rest of the practice problem."
   ]
  },
  {
   "cell_type": "code",
   "execution_count": 6,
   "metadata": {},
   "outputs": [],
   "source": [
    "import numpy as np\n",
    "from decimal import Decimal\n",
    "import matplotlib as mplot\n",
    "import matplotlib.pyplot as plt\n",
    "from numpy.polynomial import polynomial as ply\n",
    "from numpy.random import default_rng\n",
    "rng = default_rng()"
   ]
  },
  {
   "cell_type": "markdown",
   "metadata": {},
   "source": [
    "## Side note: Coin Flips in numpy\n",
    "\n",
    "To generate some of the parameters (+/-) or (milli/micro) I wanted a coin flip. Foolishly I imagined if I randomly generated an integer from [0,2] NOT including the 2 I would get something like a coin flip. (rng.integer is the generator). This did not look right and eventually I discoverd that I needed to use a binomial generator with a probability of 0.5. My code looks like this now (for future reference) and it feels like its working right.\n",
    "```\n",
    "diagonal = rng.binomial(1,0.5)\n",
    "```\n",
    "Two references that were helpful:  \n",
    "[General Generator Structure](https://numpy.org/devdocs/reference/random/index.html?highlight=random%20quick%20start)  \n",
    "[Binomial Arguments](https://numpy.org/devdocs/reference/random/generated/numpy.random.Generator.binomial.html?highlight=binomial#numpy.random.Generator.binomial)\n"
   ]
  },
  {
   "cell_type": "markdown",
   "metadata": {},
   "source": [
    "## The Problem\n",
    "\n",
    "After the dependencies are set up there should be a statement of the problem. This would be the typical homework style problem description with an articulation of which features of the problem are going to be changed as the variations of the problem are being generated. It is to be hoped that the result that the student is seeking to calculate or determine is made clear here.\n",
    "\n",
    "In this example the problem being generated is an arrangement of 4 charges at the corners of a square. Opposite corners have the same sign of charge and all charges have the same magnitude of charge. In each version of the problem the size of the square (the length of the side) and the magnitude of the charges will vary. The student is asked to calculate the magnitude of the net force on one of the corner charges (the magnitude of the force is the same for all of the corner charges, only the direction changes).\n",
    "\n",
    "### To Generate a 'New' Problem.\n",
    "\n",
    "The cell following this problem statement generates the new version of the problem and calculates the 'answer'. For calculational problems this limits me to problems where I can express the general result analytically. In general I have minimized the 'problem generation cell' (should look like three dots) to reduce distractions. If it is not minimized click on the blue vertical bar to the left of the cell to minimize (hide) the code. Then run the cell (shift-return) and a new problem will be generated. It sometimes seems to take a remarkable number of seconds to generate the problem so be patient."
   ]
  },
  {
   "cell_type": "code",
   "execution_count": 7,
   "metadata": {
    "jupyter": {
     "source_hidden": true
    }
   },
   "outputs": [
    {
     "data": {
      "image/png": "[encoded data removed]",
      "text/plain": [
       "<Figure size 720x648 with 1 Axes>"
      ]
     },
     "metadata": {
      "needs_background": "light"
     },
     "output_type": "display_data"
    }
   ],
   "source": [
    "# Generate the problem\n",
    "# set up and definitions\n",
    "\n",
    "kconstant = 8.99E+9\n",
    "\n",
    "# First generate the charge (same at all 4 corners)\n",
    "chargesize = rng.integers(1,100) # generate an integer \n",
    "exponent = rng.integers(3,10) # generate an exponent\n",
    "charge = np.float(chargesize)*10.**(-exponent)\n",
    "#print(\"Charge is: %.2E\" % charge)\n",
    "\n",
    "# Generate side of square in cm\n",
    "side = rng.integers(1,100) # generate an integer between 1 and 100 in cm\n",
    "\n",
    "# which diagonal has + charges, flip coin\n",
    "diagonal = rng.binomial(1,0.5) # diagonal 0 is up to right, charges 1 and 3\n",
    "\n",
    "# generate charge locations\n",
    "xq1 = 0.\n",
    "yq1 = 0.\n",
    "xq2 = 0.\n",
    "yq2 = side\n",
    "xq3 = side\n",
    "yq3 = side\n",
    "xq4 = side\n",
    "yq4 = 0.\n",
    "\n",
    "size = 1000.\n",
    "\n",
    "if diagonal == 0:\n",
    "    xpositive = [xq1,xq3]\n",
    "    ypositive = [yq1,yq3]\n",
    "    xnegative = [xq2,xq4]\n",
    "    ynegative = [yq2,yq4]\n",
    "else:\n",
    "    xpositive = [xq2,xq4]\n",
    "    ypositive = [yq2,yq4]\n",
    "    xnegative = [xq1,xq3]\n",
    "    ynegative = [yq1,yq3]\n",
    "\n",
    "zsquare = [size,size] # sets size of plotted charge\n",
    "\n",
    "# stuff\n",
    "result = kconstant*charge*charge*.9142/((np.float(side)/100)**2)\n",
    "#print(\"check result %.2E N\" % result)\n",
    "\n",
    "# Let the plotting begin!!\n",
    "fig2, ax2 = plt.subplots()\n",
    "\n",
    "# plot + and - charges with different colors\n",
    "ax2.scatter(xpositive, ypositive, s=zsquare, color = 'red',\n",
    "            alpha=0.6, edgecolors=\"grey\", linewidth=2)\n",
    "ax2.scatter(xnegative, ynegative, s=zsquare, color = 'blue',\n",
    "            alpha=0.6, edgecolors=\"grey\", linewidth=2)\n",
    "\n",
    "# define plot limits\n",
    "xlimH = 1.3*side\n",
    "xlimL = -.2*side\n",
    "ylimH = 1.3*side\n",
    "ylimL = -.2*side\n",
    "plt.ylim(xlimL, xlimH)\n",
    "plt.xlim(xlimL, xlimH)\n",
    "\n",
    "# Add titles (main and on axis)\n",
    "plt.rcParams.update({'font.size': 16}) # make labels easier to read\n",
    "ax2.set(xlabel='x (cm)', ylabel='y (cm)',\n",
    "       title='Four Charges (vectors)')\n",
    "# label the charges\n",
    "offset = 0.1*side\n",
    "if diagonal == 0:\n",
    "    label1 = (\"+ Q\")\n",
    "    label2 = (\"- Q\")\n",
    "    label3 = (\"+ Q\")\n",
    "    label4 = (\"- Q\")\n",
    "else:\n",
    "    label1 = (\"- Q\")\n",
    "    label2 = (\"+ Q\")\n",
    "    label3 = (\"- Q\")\n",
    "    label4 = (\"+ Q\")\n",
    "\n",
    "labelref1 = (\"side = %i cm\" % side)\n",
    "labelref2 = (\"|Q| = %.2E C\" % (charge))\n",
    "    \n",
    "    \n",
    "ax2.text(xq1+offset, yq1+offset, label1)\n",
    "ax2.text(xq2+offset, yq2-offset, label2)\n",
    "ax2.text(xq3-offset, yq3-offset, label3)\n",
    "ax2.text(xq4-offset, yq4+offset, label4)\n",
    "ax2.text(xq1, yq2/2, labelref1)\n",
    "ax2.text(xq1, yq2/2-offset/2, labelref2)\n",
    "\n",
    "# define display parameters\n",
    "fig2.set_size_inches(10, 9)\n",
    "# ax2.legend(loc= 2)\n",
    "ax2.grid()\n",
    "plt.show()\n",
    "\n",
    "#fig2.savefig('fourcharges.png')\n"
   ]
  },
  {
   "cell_type": "markdown",
   "metadata": {},
   "source": [
    "## Check Your Answer!\n",
    "\n",
    "Following the problem generation there will be a code cell which allows the student to check their answer. To do so the student first runs the following code cell (shift-return) which will generate a data input box. The student enters their answer in the requested exponential format (if needed) and receives a response. Within 1% is considered exactly correct, within 5% suggests that the answer is correct but round off errors or approximations led to numerical variation from exactness (actual HW tests allow 10% error), and within 20% suggests that the general approach is correct but there are some actual process errors. Greater than 20% error suggests the student is approaching the problem incorrectly.\n",
    "\n",
    "### To Try Again:\n",
    "\n",
    "To try again the student can review their calculations above **WITHOUT GENERATING A NEW PROBLEM** and then rerun the answer code below. As long as the student does **NOT** generate a new problem the code will check the submitted answer for correctness against the current version of the problem."
   ]
  },
  {
   "cell_type": "code",
   "execution_count": 8,
   "metadata": {
    "hideCode": "true",
    "jupyter": {
     "source_hidden": true
    }
   },
   "outputs": [
    {
     "name": "stdout",
     "output_type": "stream",
     "text": [
      "Enter the magnitude of the force in N\n",
      "Enter in the form 34.5E+03 or 5.6E-04\n"
     ]
    },
    {
     "name": "stdin",
     "output_type": "stream",
     "text": [
      "Enter your result:  5\n"
     ]
    },
    {
     "name": "stdout",
     "output_type": "stream",
     "text": [
      "Error > 20%, Probably need to run the numbers again or generate a new problem. \n",
      "Practice makes perfect\n"
     ]
    }
   ],
   "source": [
    "# get student result\n",
    "print(\"Enter the magnitude of the force in N\")\n",
    "print(\"Enter in the form 34.5E+03 or 5.6E-04\")\n",
    "studentresult = float(input(\"Enter your result: \"))\n",
    "\n",
    "# check result relative to answer\n",
    "closeness = np.absolute(1.0 - (studentresult/result))\n",
    "if closeness < 0.01:\n",
    "    print(\"Yay, you nailed it!\")\n",
    "else:\n",
    "    if closeness < 0.05:\n",
    "        print(\"You are within 5% which could just be rounding errors. \")\n",
    "    else:\n",
    "        if closeness < 0.2:\n",
    "            print(\"You are within 20% which feels like you're doing it right. Check numbers. \")\n",
    "        else:\n",
    "            print(\"Error > 20%, Probably need to run the numbers again or generate a new problem. \")\n",
    "    \n",
    "print(\"Practice makes perfect\")\n"
   ]
  },
  {
   "cell_type": "markdown",
   "metadata": {},
   "source": [
    "## Practice!!\n",
    "\n",
    "Rinse and repeat until you get it right a couple of times in a row."
   ]
  },
  {
   "cell_type": "code",
   "execution_count": null,
   "metadata": {},
   "outputs": [],
   "source": []
  }
 ],
 "metadata": {
  "kernelspec": {
   "display_name": "Python 3",
   "language": "python",
   "name": "python3"
  },
  "language_info": {
   "codemirror_mode": {
    "name": "ipython",
    "version": 3
   },
   "file_extension": ".py",
   "mimetype": "text/x-python",
   "name": "python",
   "nbconvert_exporter": "python",
   "pygments_lexer": "ipython3",
   "version": "3.8.5"
  }
 },
 "nbformat": 4,
 "nbformat_minor": 4
}
