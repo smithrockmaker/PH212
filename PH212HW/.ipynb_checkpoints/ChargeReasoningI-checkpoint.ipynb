{
 "cells": [
  {
   "cell_type": "markdown",
   "metadata": {},
   "source": [
    "# Charge Reasoning I\n",
    "## PH 212 COCC\n",
    "### Bruce Emerson 6/6/2020\n",
    "\n",
    "It is a basic tenant of physics teaching that one of the things which is often hard to learn is to reason quantitatively without numbers. This is often relevant when we know the relationship between the outcome and the characteristics of the problem that affect that outcome. In the case of charge we (hopefully) understand conceptually that changing the magnitude of either charge changes the amount of force they each experience and that the distance between the charges (or the centers of spherical distributions of charge) also affects the force. The force depends on the inverse of the square of the distance.\n",
    "\n",
    "This notebook is an attempt to provide some direct practice with those concepts."
   ]
  },
  {
   "cell_type": "markdown",
   "metadata": {},
   "source": [
    "## Dependencies\n",
    "\n",
    "This is my usual spectrum of dependencies that seem to be generally useful. We'll see if I need additional ones."
   ]
  },
  {
   "cell_type": "code",
   "execution_count": 13,
   "metadata": {},
   "outputs": [],
   "source": [
    "import numpy as np\n",
    "import matplotlib as mplot\n",
    "import matplotlib.pyplot as plt\n",
    "from numpy.polynomial import polynomial as ply\n",
    "from numpy.random import default_rng\n",
    "rng = default_rng()"
   ]
  },
  {
   "cell_type": "markdown",
   "metadata": {},
   "source": [
    "## Reference Point\n",
    "\n",
    "Assume that $F_1$ is the force between two identical charges of magnitude Q = 2 a distance r = 4 apart (yellow charges). Run the cell below to generate two additional charges (shades of blue-gray) and plot them on the graph. \n",
    "\n",
    "The goal is the determine the ratio of the Coulomb force between the blue charges, $F_2$, and the Coulomb force between the yellow charges $F_1$. The ratio $= \\frac{F_2}{F_1}$ is what you are seeking to determine.\n",
    "\n",
    "To get the most out of this exercise run (shift-return) the next cell to generate a new proportional reasoning problem. The yellow charges will always be the same magnitude and distance apart but the blue charges will change. \n"
   ]
  },
  {
   "cell_type": "code",
   "execution_count": 16,
   "metadata": {
    "jupyter": {
     "source_hidden": true
    }
   },
   "outputs": [
    {
     "data": {
      "image/png": "[encoded data removed]",
      "text/plain": [
       "<Figure size 720x648 with 1 Axes>"
      ]
     },
     "metadata": {
      "needs_background": "light"
     },
     "output_type": "display_data"
    }
   ],
   "source": [
    "# Generate the problem\n",
    "# Begin with the reference charges -- manually set in the begining\n",
    "# reference charge locations\n",
    "xchargeref1 = 2.\n",
    "xchargeref2 = -2.\n",
    "ychargeref1 = 0.\n",
    "ychargeref2 = 0.\n",
    "rseparationref = np.sqrt((xchargeref1-xchargeref2)**2 + (ychargeref1 - ychargeref2)**2)\n",
    "\n",
    "# 'size of reference charged object'\n",
    "Rsphere1 = 4.\n",
    "Rsphere2 = 4.\n",
    "Rscale = 200.  # potential scaling value for plot\n",
    "\n",
    "# charge on reference objects in arbitrary units\n",
    "Qcharge1 = 2.0\n",
    "Qcharge2 = 2.0\n",
    "Qscale = .5   # potential scaling value for plot\n",
    "\n",
    "# Create the other pair of charges to compare to the reference above\n",
    "# randomly generate challenge charges\n",
    "\n",
    "xchallenge1 = -rng.integers(10) # generate an integer between 0 and 9\n",
    "xchallenge2 = rng.integers(10) # generate an integer between 0 and 9\n",
    "ychallenge1 = -0.5 # rng.integers(10) # generate an integer between 0 and 9\n",
    "ychallenge2 = -0.5 # rng.integers(10) # generate an integer between 0 and 9\n",
    "rchallenge = np.sqrt((xchallenge1-xchallenge2)**2 + (ychallenge1 - ychallenge2)**2)\n",
    "# print(\"Challenge Locations \",xchallenge1,xchallenge2,ychallenge1,ychallenge2)\n",
    "\n",
    "# generate challenge charges\n",
    "Qchallenge1 = rng.integers(10) + 1 # generate an integer between 1 and 10\n",
    "Qchallenge2 = rng.integers(10) + 1  # generate an integer between 1 and 10\n",
    "\n",
    "# print(\"Challenge Charges \",Qchallenge1,Qchallenge2)\n",
    "\n",
    "# 'size of reference charged object'\n",
    "Rspherechal1 = 4.\n",
    "Rspherechal2 = 4.\n",
    "Rscalechallenge = 200.  # potential scaling value for plot\n",
    "\n",
    "refForce = Qcharge1*Qcharge2/(rseparationref**2)\n",
    "challengeForce = Qchallenge1*Qchallenge2/(rchallenge**2)\n",
    "ratio = challengeForce/refForce\n",
    "# print(\"F1 \",refForce)\n",
    "# print(\"challengeForce \",challengeForce)\n",
    "# print(\"ratio \",ratio)\n",
    "\n",
    "# create data for reference plot -- first element is always 0,0 with 0 charge and size\n",
    "# the first element helps the color mapping behave more nicely\n",
    "xr = [0.,xchargeref1, xchargeref2]\n",
    "yr = [0.,ychargeref1,ychargeref2]\n",
    "zr = [0.,Rsphere1*Rscale,Rsphere2*Rscale]\n",
    "\n",
    "mr = [0.,Qcharge1,Qcharge2]\n",
    "#zrscale\n",
    "# create data for challenge plot -- first element is always 0,0 with 0 charge and size\n",
    "xc = [0.,xchallenge1,xchallenge2]\n",
    "yc = [0.,ychallenge1,ychallenge2]\n",
    "zc = [0.,Rspherechal1*Rscalechallenge,Rspherechal2*Rscalechallenge]\n",
    "mc = [0.,Qchallenge1,Qchallenge2]\n",
    "\n",
    "# Let the plotting begin!!\n",
    "fig2, ax2 = plt.subplots()\n",
    "\n",
    "# Change color with c and alpha. I map the color to the charge value with m axis value.\n",
    "ax2.scatter(xr, yr, s=zr, c=mr, cmap='viridis', \n",
    "            alpha=0.6, edgecolors=\"grey\", linewidth=2, label = \"reference\")\n",
    "ax2.scatter(xc, yc, s=zc, c=mc, cmap='Blues', \n",
    "            alpha=0.6, edgecolors=\"grey\", linewidth=2, label = \"challenge\")\n",
    "\n",
    "# organize limits\n",
    "xall = np.concatenate((xr,xc)) # collect all of the x values\n",
    "yall = np.concatenate((yr,yc)) # collect all of the y values\n",
    "xmax = np.max(xall)\n",
    "xmin = np.min(xall)\n",
    "ymax = np.max(yall)\n",
    "ymin = np.min(yall)\n",
    "# generate some plot space around the limits\n",
    "xlimH = xmax +rseparationref/2.\n",
    "xlimL = xmin-rseparationref/2.\n",
    "ylimH = ymax +rseparationref/2.\n",
    "ylimL = ymin-rseparationref/2.\n",
    "plt.ylim(xlimL, xlimH)\n",
    "plt.xlim(xlimL, xlimH)\n",
    "\n",
    "\n",
    "# Add titles (main and on axis)\n",
    "plt.rcParams.update({'font.size': 16}) # make labels easier to read\n",
    "ax2.set(xlabel='x (cm)', ylabel='y (cm)',\n",
    "       title='Two Pairs of Charges (proportional reasoning)')\n",
    "# label the charges\n",
    "offset = 1.\n",
    "labelref1 = (\"Q = %.2f\" % Qcharge1)\n",
    "labelref2 = (\"Q = %.2f\" % Qcharge2)\n",
    "labelchal1 = (\"Q = %.2f\" % Qchallenge1)\n",
    "labelchal2 = (\"Q = %.2f\" % Qchallenge2)\n",
    "ax2.text(xchargeref1-offset, ychargeref1 + offset, labelref1)\n",
    "ax2.text(xchargeref2-offset, ychargeref2 + offset, labelref2)\n",
    "ax2.text(xchallenge1-offset, ychallenge1 - offset, labelchal1)\n",
    "ax2.text(xchallenge2-offset, ychallenge2 - offset, labelchal2)\n",
    "\n",
    "fig2.set_size_inches(10, 9)\n",
    "# ax2.legend(loc= 2)\n",
    "ax2.grid()\n",
    "plt.show()\n",
    "\n",
    "#fig2.savefig('chargereasonI.png')"
   ]
  },
  {
   "cell_type": "markdown",
   "metadata": {},
   "source": [
    "## To Check Your Answer!\n",
    "\n",
    "Execute the code cell below to check your answer. When you execute the cell it will give you a blank to enter the ratio $\\frac{F_2}{F_1}$ with a couple of decimal places. Here are the possible responses from the check of your answer:\n",
    "\n",
    "1. Nailed it! -- your answer is within 1% of the calculated answer.\n",
    "1. Within 5% -- pretty close and probably just round off error.\n",
    "1. Within 20% -- seems likely that there is a math error\n",
    "1. Need to run the numbers again -- your answer is off by more than 20% \n",
    "\n",
    "To try again rerun the code cell below (shift-return) and enter your new attempt. \n",
    "\n",
    "If you rerun the plot cell before this one you will generate a new problem with new answers.\n",
    "\n"
   ]
  },
  {
   "cell_type": "code",
   "execution_count": 18,
   "metadata": {
    "hideCode": "true",
    "jupyter": {
     "source_hidden": true
    }
   },
   "outputs": [
    {
     "name": "stdout",
     "output_type": "stream",
     "text": [
      "Enter the ratio of the new force relative to F1 - the reference force.\n",
      "Your result should be entered with 2 decimal places.\n"
     ]
    },
    {
     "name": "stdin",
     "output_type": "stream",
     "text": [
      "Enter your result:  1.58\n"
     ]
    },
    {
     "name": "stdout",
     "output_type": "stream",
     "text": [
      "Yay, you nailed it!\n",
      "Practice makes perfect\n"
     ]
    }
   ],
   "source": [
    "#### get student result\n",
    "print(\"Enter the ratio of the new force relative to F1 - the reference force.\")\n",
    "print(\"Your result should be entered with 2 decimal places.\")\n",
    "studentresult = float(input(\"Enter your result: \"))\n",
    "\n",
    "# check result relative to answer\n",
    "closeness = np.absolute(1.0 - (studentresult/ratio))\n",
    "if closeness < 0.01:\n",
    "    print(\"Yay, you nailed it!\")\n",
    "else:\n",
    "    if closeness < 0.05:\n",
    "        print(\"You are within 5% which could just be rounding errors. \")\n",
    "    else:\n",
    "        if closeness < 0.2:\n",
    "            print(\"You are within 20% which feels like you're doing it right. Check numbers. \")\n",
    "        else:\n",
    "            print(\"Probably need to run the numbers again or generate a new problem. \")\n",
    "    \n",
    "print(\"Practice makes perfect\")\n"
   ]
  },
  {
   "cell_type": "markdown",
   "metadata": {},
   "source": [
    "## Practice!!\n",
    "\n",
    "Rinse and repeat until you get it right a couple of times in a row."
   ]
  },
  {
   "cell_type": "code",
   "execution_count": null,
   "metadata": {},
   "outputs": [],
   "source": []
  }
 ],
 "metadata": {
  "kernelspec": {
   "display_name": "Python 3",
   "language": "python",
   "name": "python3"
  },
  "language_info": {
   "codemirror_mode": {
    "name": "ipython",
    "version": 3
   },
   "file_extension": ".py",
   "mimetype": "text/x-python",
   "name": "python",
   "nbconvert_exporter": "python",
   "pygments_lexer": "ipython3",
   "version": "3.8.5"
  }
 },
 "nbformat": 4,
 "nbformat_minor": 4
}
