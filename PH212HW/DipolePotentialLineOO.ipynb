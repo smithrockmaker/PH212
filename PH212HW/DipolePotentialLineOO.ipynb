{
 "cells": [
  {
   "cell_type": "markdown",
   "metadata": {},
   "source": [
    "# Electric Potential: On Line Parallel to Bisector\n",
    "## PH 212 COCC\n",
    "### Bruce Emerson 6/16/2020\n",
    "\n",
    "It is a basic tenant of physics teaching that one of the things which is often hard to learn is to reason quantitatively without numbers. This is often relevant when we know the relationship between the outcome and the characteristics of the problem that affect that outcome. In the case of charge we (hopefully) understand conceptually that changing the magnitude of either charge changes the amount of force they each experience and that the distance between the charges (or the centers of spherical distributions of charge) also affects the force. The force depends on the inverse of the square of the distance.\n",
    "\n",
    "This notebook is an attempt to provide some direct practice with those concepts."
   ]
  },
  {
   "cell_type": "markdown",
   "metadata": {},
   "source": [
    "## Dependencies\n",
    "\n",
    "This is my usual spectrum of dependencies that seem to be generally useful. We'll see if I need additional ones. The notebooks with OO at the end of the name use the older version of the numpy.random random number generators. The newer generator ```default_rng``` will be commented out in the dependencies where appropriate."
   ]
  },
  {
   "cell_type": "code",
   "execution_count": 19,
   "metadata": {},
   "outputs": [],
   "source": [
    "import numpy as np\n",
    "from decimal import Decimal\n",
    "import matplotlib as mplot\n",
    "import matplotlib.pyplot as plt\n",
    "from numpy.polynomial import polynomial as ply\n",
    "from numpy.random import default_rng\n",
    "rng = default_rng()"
   ]
  },
  {
   "cell_type": "markdown",
   "metadata": {},
   "source": [
    "## The Problem\n",
    "\n",
    "Potential Along Line through Dipole:\n",
    "\n",
    "Find the electric potential everywhere on a line which is parallel to the perpendicular bisector and passes through the positive charge. In the test you will be given the charge, the separation of the dipole and the x,y coordinates of two different points. You will provide a numerical answer for the potential at those two points. Unless you have a closed form solution that you can plug the numbers into you will be toast (I hope). Do your advance work and you should have enough time to crank the numbers through when you get them \n",
    "\n",
    "To get the most out of this exercise the next cell is minimized and should be left so. Run the cell output to generate a new version of the problem that will be plotted below."
   ]
  },
  {
   "cell_type": "code",
   "execution_count": 25,
   "metadata": {},
   "outputs": [
    {
     "data": {
      "image/png": "[encoded data removed]",
      "text/plain": [
       "<Figure size 720x288 with 1 Axes>"
      ]
     },
     "metadata": {
      "needs_background": "light"
     },
     "output_type": "display_data"
    }
   ],
   "source": [
    "# Generate the problem\n",
    "# set up and definitions\n",
    "# replace rng.integers with np.random.randint for older versions\n",
    "\n",
    "kconstant = 8.99E+9\n",
    "\n",
    "# First generate the charge (same at all 4 corners)\n",
    "chargesize = np.random.randint(1,100) # generate an integer between 0 and 100 # generate an integer \n",
    "exponent = np.random.randint(3,10) # generate an exponent\n",
    "charge = np.float(chargesize)*10.**(-exponent)\n",
    "#print(\"Charge is: %.2E\" % charge)\n",
    "\n",
    "# Generate spacing of dipole cm\n",
    "space = np.random.randint(1,100) # generate an integer between 1 and 100 in cm\n",
    "separation = float(space)\n",
    "\n",
    "# Generate location of point above + charge\n",
    "yValue = np.random.randint(5,200) # generate an integer between 1 and 100 in cm\n",
    "yPoint = float(yValue)\n",
    "\n",
    "# generate charge locations\n",
    "xq1 = -separation/2.\n",
    "yq1 = 0.\n",
    "xq2 = separation/2.\n",
    "yq2 = 0.\n",
    "dipolex = [xq1, xq2]\n",
    "dipoley = [0,0]\n",
    "\n",
    "# just controls plotted size of charge\n",
    "size = 100.\n",
    "dipolesize = [size, size]\n",
    "ptsize = 5.\n",
    "\n",
    "# stuff\n",
    "resultcommon = kconstant*charge\n",
    "resultvariable = ((1./yPoint) - (1./np.sqrt(yPoint**2 + separation**2)))*1.E+2\n",
    "result = resultcommon*resultvariable\n",
    "#print(\"check result %.2E V\" % result)\n",
    "\n",
    "# Let the plotting begin!!\n",
    "fig2, ax2 = plt.subplots()\n",
    "\n",
    "# plot + and - charges with different colors\n",
    "ax2.scatter(dipolex, dipoley, s=dipolesize, color = 'red',\n",
    "            alpha=0.6, edgecolors=\"grey\", linewidth=2)\n",
    "ax2.scatter(xq2, yPoint, s=30, color = 'black',\n",
    "            alpha=0.9, edgecolors=\"black\", linewidth=2)\n",
    "\n",
    "\n",
    "# define plot limits\n",
    "xlimH = 1.5*separation\n",
    "xlimL = -1.5*separation\n",
    "ylimL = -.3*yPoint\n",
    "ylimH = 1.2*yPoint\n",
    "\n",
    "plt.xlim(xlimL, xlimH)\n",
    "plt.ylim(ylimL, ylimH)\n",
    "\n",
    "# Add titles (main and on axis)\n",
    "plt.rcParams.update({'font.size': 16}) # make labels easier to read\n",
    "ax2.set(xlabel='x (cm)', ylabel='y (cm)',\n",
    "       title='Potential on Line Parallel to Bisector')\n",
    "# label the charges\n",
    "\n",
    "labelseparation = (\"Separation: %.2f cm\" %separation)\n",
    "labelcharge = (\"Charges +/- %.2E C\" % charge)\n",
    "label3 = (\"P\")\n",
    "label4 = (\" %.2f cm.\" % yPoint)\n",
    "label5 = (\"distance from (+) charge\")\n",
    "\n",
    "\n",
    "#labelref1 = (\"side = %i cm\" % side)\n",
    "#labelref2 = (\"|Q| = %.2E C\" % (charge))\n",
    "    \n",
    "    \n",
    "ax2.text(-separation/2, -.25*yPoint, labelseparation)\n",
    "ax2.text(-separation/2, 0.2*yPoint, labelcharge)\n",
    "ax2.text(xq2+.1*separation, yPoint, label3)\n",
    "ax2.text(xq2+.1*separation, 0.9*yPoint, label4)\n",
    "ax2.text(xq2+.1*separation, 0.8*yPoint, label5)\n",
    "\n",
    "\n",
    "# define display parameters\n",
    "fig2.set_size_inches(10, 4)\n",
    "# ax2.legend(loc= 2)\n",
    "ax2.grid()\n",
    "plt.show()\n",
    "\n",
    "#fig2.savefig('dipoleaxis.png')\n"
   ]
  },
  {
   "cell_type": "markdown",
   "metadata": {},
   "source": [
    "## Your Answer!\n",
    "\n",
    "Execute the cell below to check your answer. If you don't get it right you can rerun this cell and try again. The problem will remain static until you rerun the cell above this.\n",
    "\n",
    "To get the most out of this exercise minimize the next cell (click on the bar to the left) and the run the cell to generate a problem that will be plotted below."
   ]
  },
  {
   "cell_type": "code",
   "execution_count": 14,
   "metadata": {
    "hideCode": "true",
    "jupyter": {
     "source_hidden": true
    }
   },
   "outputs": [
    {
     "name": "stdout",
     "output_type": "stream",
     "text": [
      "Enter the magnitude of the force in N/C\n",
      "Enter in the form 34.5E+03 or 5.6E-04\n"
     ]
    },
    {
     "name": "stdin",
     "output_type": "stream",
     "text": [
      "Enter your result:  8.7E+03\n"
     ]
    },
    {
     "name": "stdout",
     "output_type": "stream",
     "text": [
      "Yay, you nailed it!\n",
      "Practice makes perfect\n"
     ]
    }
   ],
   "source": [
    "# get student result\n",
    "print(\"Enter the magnitude of the force in N/C\")\n",
    "print(\"Enter in the form 34.5E+03 or 5.6E-04\")\n",
    "studentresult = float(input(\"Enter your result: \"))\n",
    "\n",
    "# check result relative to answer\n",
    "closeness = np.absolute(1.0 - (studentresult/result))\n",
    "if closeness < 0.01:\n",
    "    print(\"Yay, you nailed it!\")\n",
    "else:\n",
    "    if closeness < 0.05:\n",
    "        print(\"You are within 5% which could just be rounding errors. \")\n",
    "    else:\n",
    "        if closeness < 0.2:\n",
    "            print(\"You are within 20% which feels like you're doing it right. Check numbers. \")\n",
    "        else:\n",
    "            print(\"Probably need to run the numbers again or generate a new problem. \")\n",
    "    \n",
    "print(\"Practice makes perfect\")\n"
   ]
  },
  {
   "cell_type": "markdown",
   "metadata": {},
   "source": [
    "## Practice!!\n",
    "\n",
    "Rinse and repeat until you get it right a couple of times in a row."
   ]
  },
  {
   "cell_type": "code",
   "execution_count": null,
   "metadata": {},
   "outputs": [],
   "source": []
  }
 ],
 "metadata": {
  "kernelspec": {
   "display_name": "Python 3",
   "language": "python",
   "name": "python3"
  },
  "language_info": {
   "codemirror_mode": {
    "name": "ipython",
    "version": 3
   },
   "file_extension": ".py",
   "mimetype": "text/x-python",
   "name": "python",
   "nbconvert_exporter": "python",
   "pygments_lexer": "ipython3",
   "version": "3.7.7"
  }
 },
 "nbformat": 4,
 "nbformat_minor": 4
}
