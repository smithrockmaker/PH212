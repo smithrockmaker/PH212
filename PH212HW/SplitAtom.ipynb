{
 "cells": [
  {
   "cell_type": "markdown",
   "metadata": {},
   "source": [
    "# Electric Potential: Energy Needed to Reach Nucleus\n",
    "## PH 212 COCC\n",
    "### Bruce Emerson 6/16/2020\n",
    "\n",
    "It is a basic tenant of physics teaching that one of the things which is often hard to learn is to reason quantitatively without numbers. This is often relevant when we know the relationship between the outcome and the characteristics of the problem that affect that outcome. In the case of charge we (hopefully) understand conceptually that changing the magnitude of either charge changes the amount of force they each experience and that the distance between the charges (or the centers of spherical distributions of charge) also affects the force. The force depends on the inverse of the square of the distance.\n",
    "\n",
    "This notebook is an attempt to provide some direct practice with those concepts."
   ]
  },
  {
   "cell_type": "markdown",
   "metadata": {},
   "source": [
    "## Dependencies\n",
    "\n",
    "This is my usual spectrum of dependencies that seem to be generally useful. We'll see if I need additional ones. The notebooks with OO at the end of the name use the older version of the numpy.random random number generators. The newer generator ```default_rng``` will be commented out in the dependencies where appropriate."
   ]
  },
  {
   "cell_type": "code",
   "execution_count": 1,
   "metadata": {},
   "outputs": [],
   "source": [
    "import numpy as np\n",
    "from decimal import Decimal\n",
    "import matplotlib as mplot\n",
    "import matplotlib.pyplot as plt\n",
    "from numpy.polynomial import polynomial as ply\n",
    "from numpy.random import default_rng\n",
    "rng = default_rng()"
   ]
  },
  {
   "cell_type": "markdown",
   "metadata": {},
   "source": [
    "## The Problem\n",
    "\n",
    "Reaching the Nucleus:\n",
    "\n",
    "In order to split a nucleus a proton must penetrate through the E field to reach the nucleus of a Si atom. There will be no E field to contend with until the proton begins to enter the fringes of the atom at a distance of 10 nm. The proton will reach the nucleus 3.6.10-15 m. from the center of the Si atom. What initial kinetic energy must a proton have to reach a Si nucleus (q=+14e) under these circumstances? Because an atom is a neutral object from a distance you should assume no E field until the proton gets 10 nm from the Si atom. From that point on consider only the field produced by the nucleus which is certainly an oversimplification but acceptable for this problem. An energy bar chart would be very prudent!\n",
    "\n",
    "For practice I will use a variety of numbers here. Some research indicates there are some fascinating patterns [See this article](https://sciencenotes.org/periodic-table-chart-element-sizes/) to the 'size' of atoms. Suffice it to say they range from 50 to 265 (Cs) pm. Similarly there is a range of nuclear sizes although not as great from 2.5 to 5.5 fm. I will randomly select atomic and nuclear radii as well as the charge of the nucleus for your practice problems. The 'atoms' generated will be largely unrealistic but the calculations will be identical to your homework problem.\n",
    "\n",
    "To get the most out of this exercise the next cell is minimized and should be left so. Run the cell to generate a new version of the problem that will be plotted below."
   ]
  },
  {
   "cell_type": "code",
   "execution_count": 2,
   "metadata": {},
   "outputs": [
    {
     "data": {
      "image/png": "[encoded data removed]",
      "text/plain": [
       "<Figure size 720x288 with 1 Axes>"
      ]
     },
     "metadata": {
      "needs_background": "light"
     },
     "output_type": "display_data"
    }
   ],
   "source": [
    "# Generate the problem\n",
    "# set up and definitions\n",
    "\n",
    "kconstant = 8.99E+9\n",
    "chargeproton = 1.6E-19\n",
    "\n",
    "# First generate the atomic number of the nucleus\n",
    "nucleusnumber = rng.integers(2,98) # generate an integer between 2 and 98 # generate an integer \n",
    "charge = np.float(nucleusnumber*chargeproton)\n",
    "#print(\"Charge is: %.2E\" % charge)\n",
    "\n",
    "# Generate size of nucleus from 2.5 to 5.5 fm\n",
    "nuclearsize = rng.integers(25,55) # generate an integer between 25 and 55\n",
    "nuclearRadius = float(nuclearsize)/10. # scale down to range from 2.5 to 5.5 fm\n",
    "\n",
    "# Generate size of atom from 50 to 265 pm\n",
    "atomsize = rng.integers(50, 265) # generate an integer between 50 and 265\n",
    "atomRadius = float(atomsize)\n",
    "protonx = 1.3*atomRadius # location to plot proton\n",
    "\n",
    "\n",
    "# put nucleus at origin\n",
    "nucleusx = 0.\n",
    "nucleusy = 0.\n",
    "\n",
    "\n",
    "# stuff\n",
    "result = kconstant*chargeproton**2.*float(nucleusnumber)*1.E+15/nuclearRadius\n",
    "#print(\"check result %.2E J\" % result)\n",
    "\n",
    "# Let the plotting begin!!\n",
    "fig2, ax2 = plt.subplots()\n",
    "\n",
    "# plot + and - charges with different colors\n",
    "#ax2.scatter(dipolex, dipoley, s=dipolesize, color = 'red',\n",
    "#            alpha=0.6, edgecolors=\"grey\", linewidth=2)\n",
    "ax2.scatter(nucleusx, nucleusy, s=100, color = 'red',\n",
    "            alpha=0.9, edgecolors=\"red\", linewidth=2)\n",
    "ax2.scatter(protonx, 0, s=30, color = 'black',\n",
    "            alpha=0.9, edgecolors=\"black\", linewidth=2)\n",
    "\n",
    "\n",
    "# define plot limits\n",
    "xlimH = 1.5*atomRadius\n",
    "xlimL = - 25.\n",
    "\n",
    "plt.ylim(-2., 2.)\n",
    "plt.xlim(xlimL, xlimH)\n",
    "\n",
    "# Add titles (main and on axis)\n",
    "plt.rcParams.update({'font.size': 16}) # make labels easier to read\n",
    "ax2.set(xlabel='x (pm)',\n",
    "       title='Split the Atom')\n",
    "ax2.axvline(x=atomRadius, color = \"green\")\n",
    "# label the charges\n",
    "\n",
    "labelnucleus= (\"Radius of Nucleus: %.2f (fm)\" %nuclearRadius)\n",
    "labelnumber= (\"Element #: %i\" %nucleusnumber)\n",
    "labelatom = (\"Radius of Atom %.2E (pm)\" % atomRadius)\n",
    "label3 = (\"Edge of Atom\")\n",
    "label4 = (\"proton\")\n",
    "labeldirection = (\"<-----\")\n",
    "\n",
    "    \n",
    "ax2.text(-10., -0.7, labelnucleus)\n",
    "ax2.text(-10, -1.1, labelnumber)\n",
    "ax2.text(atomRadius*0.1, .5, labelatom)\n",
    "ax2.text(atomRadius*1.05, 0.5, label3)\n",
    "ax2.text(1.2*atomRadius, -0.4, label4)\n",
    "ax2.text(1.12*atomRadius, -.05, labeldirection, color = \"red\")\n",
    "\n",
    "\n",
    "\n",
    "\n",
    "# define display parameters\n",
    "fig2.set_size_inches(10, 4)\n",
    "# ax2.legend(loc= 2)\n",
    "ax2.grid()\n",
    "plt.show()\n",
    "\n",
    "#fig2.savefig('dipoleaxis.png')\n"
   ]
  },
  {
   "cell_type": "markdown",
   "metadata": {},
   "source": [
    "## Your Answer!\n",
    "\n",
    "Execute the cell below to check your answer. If you don't get it right you can rerun this cell and try again. The problem will remain static until you rerun the cell above this.\n",
    "\n",
    "To get the most out of this exercise minimize the next cell (click on the bar to the left) and the run the cell to generate a problem that will be plotted below."
   ]
  },
  {
   "cell_type": "code",
   "execution_count": 3,
   "metadata": {
    "hideCode": "true",
    "jupyter": {
     "source_hidden": true
    }
   },
   "outputs": [
    {
     "name": "stdout",
     "output_type": "stream",
     "text": [
      "Enter the magnitude of the force in N/C\n",
      "Enter in the form 34.5E+03 or 5.6E-04\n"
     ]
    },
    {
     "name": "stdin",
     "output_type": "stream",
     "text": [
      "Enter your result:  70E-13\n"
     ]
    },
    {
     "name": "stdout",
     "output_type": "stream",
     "text": [
      "Yay, you nailed it!\n",
      "Practice makes perfect\n"
     ]
    }
   ],
   "source": [
    "# get student result\n",
    "print(\"Enter the magnitude of the force in N/C\")\n",
    "print(\"Enter in the form 34.5E+03 or 5.6E-04\")\n",
    "studentresult = float(input(\"Enter your result: \"))\n",
    "\n",
    "# check result relative to answer\n",
    "closeness = np.absolute(1.0 - (studentresult/result))\n",
    "if closeness < 0.01:\n",
    "    print(\"Yay, you nailed it!\")\n",
    "else:\n",
    "    if closeness < 0.05:\n",
    "        print(\"You are within 5% which could just be rounding errors. \")\n",
    "    else:\n",
    "        if closeness < 0.2:\n",
    "            print(\"You are within 20% which feels like you're doing it right. Check numbers. \")\n",
    "        else:\n",
    "            print(\"Probably need to run the numbers again or generate a new problem. \")\n",
    "    \n",
    "print(\"Practice makes perfect\")\n"
   ]
  },
  {
   "cell_type": "markdown",
   "metadata": {},
   "source": [
    "## Practice!!\n",
    "\n",
    "Rinse and repeat until you get it right a couple of times in a row."
   ]
  },
  {
   "cell_type": "code",
   "execution_count": null,
   "metadata": {},
   "outputs": [],
   "source": []
  }
 ],
 "metadata": {
  "kernelspec": {
   "display_name": "Python 3",
   "language": "python",
   "name": "python3"
  },
  "language_info": {
   "codemirror_mode": {
    "name": "ipython",
    "version": 3
   },
   "file_extension": ".py",
   "mimetype": "text/x-python",
   "name": "python",
   "nbconvert_exporter": "python",
   "pygments_lexer": "ipython3",
   "version": "3.8.5"
  }
 },
 "nbformat": 4,
 "nbformat_minor": 4
}
