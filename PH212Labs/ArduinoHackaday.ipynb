{
 "cells": [
  {
   "cell_type": "markdown",
   "metadata": {},
   "source": [
    "# Hackaday Project Assessment\n",
    "## PH 212 Lab\n",
    "### 5/25/21\n",
    "\n",
    "This is the notebook template for the Hackaday lab where you are asked to assess the various features of a Hackaday Arduino project page.\n"
   ]
  },
  {
   "cell_type": "markdown",
   "metadata": {},
   "source": [
    "## Dependencies\n",
    "\n",
    "You would have copied this anyway so here are the dependencies we often need. We're not doing anything with data in this lab but I'll leave the standard dependencies here anyway."
   ]
  },
  {
   "cell_type": "code",
   "execution_count": 1,
   "metadata": {},
   "outputs": [],
   "source": [
    "import numpy as np\n",
    "import matplotlib as mplot\n",
    "import matplotlib.pyplot as plt\n",
    "from numpy.polynomial import polynomial as ply"
   ]
  },
  {
   "cell_type": "markdown",
   "metadata": {},
   "source": [
    "***\n",
    "### Lab Deliverable: What Project\n",
    "\n",
    "In this section provide a link to the project that attracted your attention.\n",
    "\n",
    "Here is a [tiny night light](https://hackaday.com/2020/07/27/tiny-circuit-sculpture-keeps-the-night-watch/) which is built around an Arduino and some simple circuitry. As the comments note the Arduino is total overkill for such a simple device but none the less it is very cool.\n",
    "\n",
    "***"
   ]
  },
  {
   "cell_type": "markdown",
   "metadata": {},
   "source": [
    "***\n",
    "### Lab Deliverable: Build Instructions:\n",
    "\n",
    "Does the article have links to actual build instructions? Many of the Hackaday projects also have links to related projects. Sometimes there are links out to webpages or github accounts that document the build and sometimes there are not. What is your assessment of the level of guidance that is available if you were to decide to recreate the project you are assessing?\n",
    "\n",
    "***"
   ]
  },
  {
   "cell_type": "markdown",
   "metadata": {},
   "source": [
    "***\n",
    "### Lab Deliverable: Hardware:\n",
    "\n",
    "Can you find a complete parts list for the hardware for the project? Does this parts list include any difficult to access materials or items? Is the a general sense of the parts budget for this project? What is that budget? How long might it take you to assemble the materials for the project?\n",
    "\n",
    "***"
   ]
  },
  {
   "cell_type": "markdown",
   "metadata": {},
   "source": [
    "***\n",
    "### Lab Deliverable: Circuit Boards:\n",
    "\n",
    "Circuit Boards: Many of the projects on Hackaday use custom circuit boards that are designed and then fabricated in China usually. This is not particularly expensive but it does require an additional skill set to design create the PCB (printed circuit board). In many cases the project creator has extra boards that they will sell to interested parties. Is this the case for your project?\n",
    "\n",
    "***"
   ]
  },
  {
   "cell_type": "markdown",
   "metadata": {},
   "source": [
    "***\n",
    "### Lab Deliverable: Software (code):\n",
    "\n",
    "Software: What are the software requirements for the project? Is the Arduino sketch for running the project available? Does the sketch require custom libraries? When you look at the sketch do you understand most of the code or relatively little? Feel free to include any code you find here for future reference.\n",
    "\n",
    "```c\n",
    "\t\n",
    "int IN_PIN = 3;\n",
    "void setup() {\n",
    "  pinMode(IN_PIN, OUTPUT);\n",
    "  digitalWrite(IN_PIN, LOW);\n",
    "  Serial.begin(9600);\n",
    "  delay(1000);\n",
    "  Serial.println(\"Enter 1 to turn on lamp, 0 to turn off\"); \n",
    "}\n",
    "void loop() {\n",
    "   while (Serial.available()) {\n",
    "    char inChar = (char)Serial.read();\n",
    "    if (inChar == '1') {\n",
    "      digitalWrite(IN_PIN, HIGH);\n",
    "      Serial.println(\"Lamp is On!\");\n",
    "    }else if(inChar == '0'){\n",
    "      digitalWrite(IN_PIN, LOW);\n",
    "      Serial.println(\"Lamp is Off!\");\n",
    "    }else{\n",
    "      Serial.println(\"Invalid input!\");\n",
    "    }\n",
    "  }\n",
    "}\n",
    "```\n",
    "\n",
    "***"
   ]
  },
  {
   "cell_type": "markdown",
   "metadata": {},
   "source": [
    "***\n",
    "### Lab Deliverable: Reflection/Comments\n",
    "\n",
    "Comments: The comments section for Hackaday projects can be very revealing and interesting. They can also be snarky and unsupportive though this is less common. What did you learn from the comments about the project?\n",
    "\n",
    "Reflect on what you learned during this process. \n",
    "\n",
    "* What aspects of reading the documentation or following the tutorials did you find challenging? \n",
    "* What did you find unclear or even inscrutable in the sketch you found and edited?\n",
    "* Notes to Future Self: What would you most want to remind your future self about learning to use a Arduino sensor or actuator you hadn't worked with before?\n",
    "\n",
    "***"
   ]
  },
  {
   "cell_type": "code",
   "execution_count": null,
   "metadata": {},
   "outputs": [],
   "source": []
  },
  {
   "cell_type": "code",
   "execution_count": null,
   "metadata": {},
   "outputs": [],
   "source": []
  }
 ],
 "metadata": {
  "kernelspec": {
   "display_name": "Python 3",
   "language": "python",
   "name": "python3"
  },
  "language_info": {
   "codemirror_mode": {
    "name": "ipython",
    "version": 3
   },
   "file_extension": ".py",
   "mimetype": "text/x-python",
   "name": "python",
   "nbconvert_exporter": "python",
   "pygments_lexer": "ipython3",
   "version": "3.8.5"
  }
 },
 "nbformat": 4,
 "nbformat_minor": 4
}
