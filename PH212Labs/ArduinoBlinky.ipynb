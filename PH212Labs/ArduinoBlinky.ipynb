{
 "cells": [
  {
   "cell_type": "markdown",
   "metadata": {},
   "source": [
    "# Arduino Blinky\n",
    "## PH 212 Lab\n",
    "### March 30 2021\n",
    "\n",
    "Getting your Arduino to blink an external LED is the point of this lab. There is a great deal that you are learning about how the code works and how the protoboard works during this lab. There isn't a lot I need you to do in a python notebook for this class but I am creating this in case I think of something important.\n"
   ]
  },
  {
   "cell_type": "markdown",
   "metadata": {},
   "source": [
    "## Dependencies\n",
    "\n",
    "You would have copied this anyway so here are the dependencies we often need."
   ]
  },
  {
   "cell_type": "code",
   "execution_count": 1,
   "metadata": {},
   "outputs": [],
   "source": [
    "import numpy as np\n",
    "import matplotlib as mplot\n",
    "import matplotlib.pyplot as plt\n",
    "from numpy.polynomial import polynomial as ply"
   ]
  },
  {
   "cell_type": "markdown",
   "metadata": {},
   "source": [
    "***\n",
    "### Lab Deliverable: Tech Questions\n",
    "\n",
    "Do you have specific tech questions or thoughts about the Arduino hardware or software? \n",
    "***"
   ]
  },
  {
   "cell_type": "markdown",
   "metadata": {},
   "source": [
    "***\n",
    "### Lab Deliverable: Reflection:\n",
    "\n",
    "Do you have general questions or thoughts about the Arduino hardware or software? It will become more apparent as we go along what you can do with these sorts of devices.\n",
    "***"
   ]
  },
  {
   "cell_type": "code",
   "execution_count": null,
   "metadata": {},
   "outputs": [],
   "source": []
  }
 ],
 "metadata": {
  "kernelspec": {
   "display_name": "Python 3",
   "language": "python",
   "name": "python3"
  },
  "language_info": {
   "codemirror_mode": {
    "name": "ipython",
    "version": 3
   },
   "file_extension": ".py",
   "mimetype": "text/x-python",
   "name": "python",
   "nbconvert_exporter": "python",
   "pygments_lexer": "ipython3",
   "version": "3.8.5"
  }
 },
 "nbformat": 4,
 "nbformat_minor": 4
}
