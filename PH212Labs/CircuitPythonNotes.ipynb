{
 "cells": [
  {
   "cell_type": "markdown",
   "id": "b8bfaecb",
   "metadata": {},
   "source": [
    "## Circuit Python/PySerial\n",
    "\n",
    "### April 2021\n",
    "\n",
    "It would appear that there is a tool that would permit uploading code to the Arduino from a python notebook. This is apparently one of the possible features. A number of folks have worked out ways to communicate with the Arduino from a python sketch using a serial connection. I don't have time at the moment to pursue this with any diligence but I am going to tag the web pages and resources here to keep track of them."
   ]
  },
  {
   "cell_type": "markdown",
   "id": "f75d3c28",
   "metadata": {},
   "source": [
    "### Circuit Python (Adafruit)\n",
    "\n",
    "[Install for Mac](https://learn.adafruit.com/circuitpython-with-jupyter-notebooks/installing-on-mac-linux)"
   ]
  },
  {
   "cell_type": "markdown",
   "id": "806a6f1a",
   "metadata": {},
   "source": [
    "### PySerial/Firmata\n",
    "\n",
    "I got a quick version of this to work in a quick test. Firmata is a protocol that is loaded onto the Arduino that prepares the microprocessor to receive commands over the serial line. The StandardFirmata sketch is listed in Examples > Firmata > StandardFirmata. Worked for me on a quick test.\n",
    "\n",
    "* [pyfirmata](https://c2plabs.com/blog/2020/09/13/python-programming-for-arduino-using-pyfirmata/)\n",
    "* [Arduino Reference Firmata](https://www.arduino.cc/en/Reference/Firmata)\n",
    "* [robotics tutorial](https://roboticsbackend.com/control-arduino-with-python-and-pyfirmata-from-raspberry-pi/)"
   ]
  },
  {
   "cell_type": "code",
   "execution_count": null,
   "id": "2586fb04",
   "metadata": {},
   "outputs": [],
   "source": []
  }
 ],
 "metadata": {
  "kernelspec": {
   "display_name": "Python 3",
   "language": "python",
   "name": "python3"
  },
  "language_info": {
   "codemirror_mode": {
    "name": "ipython",
    "version": 3
   },
   "file_extension": ".py",
   "mimetype": "text/x-python",
   "name": "python",
   "nbconvert_exporter": "python",
   "pygments_lexer": "ipython3",
   "version": "3.8.5"
  }
 },
 "nbformat": 4,
 "nbformat_minor": 5
}
