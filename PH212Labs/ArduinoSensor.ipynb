{
 "cells": [
  {
   "cell_type": "markdown",
   "metadata": {},
   "source": [
    "# Arduino Sensor\n",
    "## PH 212 Lab\n",
    "### 5/18/21\n",
    "\n",
    "This is the notebook template for the sensor lab where you are asked to  figure out how another sensor in your Arduino kit works. This is meant to give you some experience finding and interpreting datasheets, understanding and evaluating tutorials written by others, and demonstrating that you can modify and comment code that you 'borrow' from others in ways which are both ethical (in the STEM community) and useful (for your future self).\n"
   ]
  },
  {
   "cell_type": "markdown",
   "metadata": {},
   "source": [
    "## Dependencies\n",
    "\n",
    "You would have copied this anyway so here are the dependencies we often need. We're not doing anything with data in this lab but I'll leave the standard dependencies here anyway."
   ]
  },
  {
   "cell_type": "code",
   "execution_count": 1,
   "metadata": {},
   "outputs": [],
   "source": [
    "import numpy as np\n",
    "import matplotlib as mplot\n",
    "import matplotlib.pyplot as plt\n",
    "from numpy.polynomial import polynomial as ply"
   ]
  },
  {
   "cell_type": "markdown",
   "metadata": {},
   "source": [
    "***\n",
    "### Lab Deliverable: Sensor Datasheet\n",
    "\n",
    "In this section provide a link to a datasheet for the particular device you have chosen to use for this lab. Along with the link describe what the purpose of the sensor or actuator.\n",
    "\n",
    "Here is an [example link](yourduino.com/docs/Photoresistor-5516-datasheet.pdf)  to a datasheet. This datasheet is a pdf but you could link to a webpage using the same format.\n",
    "***"
   ]
  },
  {
   "cell_type": "markdown",
   "metadata": {},
   "source": [
    "***\n",
    "### Lab Deliverable: Tutorial:\n",
    "\n",
    "You are asked to find a tutorial (or several) to guide you in figuring out how to use the sensor you chose. Provide links here to tutorials that you did and didn't decide to use. I expect to see at least one of each:) Discuss any differences between the circuit in the tutorial you found and what you eventually ended up building.\n",
    "\n",
    "If you wish to embed images from a source on the internet the formet for doing so is illustrated below with a fritzing diagram for a photoresistor circuit.\n",
    "\n",
    "<img src=\"https://www.apogeeweb.net/upload/image/20200619/2020061913580447.jpg\" width=\"400\"/>\n",
    "\n",
    "***"
   ]
  },
  {
   "cell_type": "markdown",
   "metadata": {},
   "source": [
    "***\n",
    "### Lab Deliverable: Sample Sketch (code):\n",
    "\n",
    "Almost every Arduino tutorial will provide an example sketch (code) for what ever task you are doing. Many times (as in the following example) the code has almost no commentary or explanation. This is NOT desirable.\n",
    "\n",
    "```c\n",
    "\t\n",
    "int IN_PIN = 3;\n",
    "void setup() {\n",
    "  pinMode(IN_PIN, OUTPUT);\n",
    "  digitalWrite(IN_PIN, LOW);\n",
    "  Serial.begin(9600);\n",
    "  delay(1000);\n",
    "  Serial.println(\"Enter 1 to turn on lamp, 0 to turn off\"); \n",
    "}\n",
    "void loop() {\n",
    "   while (Serial.available()) {\n",
    "    char inChar = (char)Serial.read();\n",
    "    if (inChar == '1') {\n",
    "      digitalWrite(IN_PIN, HIGH);\n",
    "      Serial.println(\"Lamp is On!\");\n",
    "    }else if(inChar == '0'){\n",
    "      digitalWrite(IN_PIN, LOW);\n",
    "      Serial.println(\"Lamp is Off!\");\n",
    "    }else{\n",
    "      Serial.println(\"Invalid input!\");\n",
    "    }\n",
    "  }\n",
    "}\n",
    "```\n",
    "\n",
    "Provide a copy (see the markdown format for how it gets displayed) of the original sketch material you are working with. Follow that (separately) with your brilliantly commented code that you ended up with. The following is an example of a nicely commented sketch. You will notice that there is more comment than code in this example.\n",
    "\n",
    "Be sure to include an acknowledgement of the author or source of the original sketch as well as your name and date affirming your modifications and whether you are willing for others to use your code. \n",
    "\n",
    "```c\n",
    "/*\n",
    " * A sketch for Arduino relay control\n",
    " * We use SONGLE SRD-05VDC relay\n",
    " * The relay is OPEN when a low signal level (LOW) is applied to the control pin.\n",
    " * Relay CLOSES when a high-level signal (HIGH) is applied to the control pin.\n",
    " * \n",
    " * In this example, we simply open and close the relay every 5 seconds.\n",
    " * \n",
    " * PIN_RELAY contains the pin number to which the relay we will control is connected \n",
    " * \n",
    " * In the setup function, set the initial position of the relay (closed).\n",
    " * If a load (e.g., a light bulb) is connected to the relay, it will be on and off every 5 seconds after the sketch is started.\n",
    " * \n",
    " * To change the blinking period, you need to change the delay() function parameter: set 1000 milliseconds and get 1 second of delay.\n",
    " * \n",
    " * In real projects, the relay is switched on in response to the detection of any external events through the connection of sensors. \n",
    " * \n",
    " */\n",
    "\n",
    "#define PIN_RELAY 5 // Define the pin used to connect the relay\n",
    "\n",
    "// In this function we define the initial settings\n",
    "void setup()\n",
    "{\n",
    "  pinMode(PIN_RELAY, OUTPUT); // Declare pin relay as output\n",
    "  digitalWrite(PIN_RELAY, HIGH); // Switch off relay - send high signal\n",
    "}\n",
    "void loop()\n",
    "{\n",
    "  digitalWrite(PIN_RELAY, LOW); // Switch on the relay - send low signal level\n",
    "  delay(5000);\n",
    "  digitalWrite(PIN_RELAY, HIGH); // Switch off relay - send high signal level\n",
    "  delay(5000);\n",
    "}\n",
    "```\n",
    "\n",
    "***"
   ]
  },
  {
   "cell_type": "markdown",
   "metadata": {},
   "source": [
    "***\n",
    "### Lab Deliverable: Reflection\n",
    "\n",
    "Reflect on what you learned during this process. \n",
    "\n",
    "* What aspects of reading the documentation or following the tutorials did you find challenging? \n",
    "* What did you find unclear or even inscrutable in the sketch you found and edited?\n",
    "* Notes to Future Self: What would you most want to remind your future self about learning to use a Arduino sensor or actuator you hadn't worked with before?\n",
    "\n",
    "***"
   ]
  },
  {
   "cell_type": "code",
   "execution_count": null,
   "metadata": {},
   "outputs": [],
   "source": []
  },
  {
   "cell_type": "code",
   "execution_count": null,
   "metadata": {},
   "outputs": [],
   "source": []
  }
 ],
 "metadata": {
  "kernelspec": {
   "display_name": "Python 3",
   "language": "python",
   "name": "python3"
  },
  "language_info": {
   "codemirror_mode": {
    "name": "ipython",
    "version": 3
   },
   "file_extension": ".py",
   "mimetype": "text/x-python",
   "name": "python",
   "nbconvert_exporter": "python",
   "pygments_lexer": "ipython3",
   "version": "3.8.5"
  }
 },
 "nbformat": 4,
 "nbformat_minor": 4
}
