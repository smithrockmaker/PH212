{
 "cells": [
  {
   "cell_type": "markdown",
   "metadata": {},
   "source": [
    "\n",
    "## Newton's Law of Cooling: Part II\n",
    "### PH 212 COCC\n",
    "#### Bruce Emerson 8/12/20\n",
    "\n",
    "In previous labs we have explored gathering data using our data loggers, importing it into our notebooks using pandas.read_csv, and developing different mathematical models for the data. This lab we will start looking at the physics that might lead us to one or the other mathematical model and how we then extract some form of the coefficient of thermal conductivity that is consistent with our data.\n",
    "\n",
    "I would want to be up front and note that much of the relevant coding in this lab will be left up to you the student.\n"
   ]
  },
  {
   "cell_type": "markdown",
   "metadata": {},
   "source": [
    "## The Data\n",
    "\n",
    "The data for this lab will be  data that you recorded with your data logger for long enough (60 - 90 min) to clearly indicate the exponential nature of the cooling.\n"
   ]
  },
  {
   "cell_type": "markdown",
   "metadata": {},
   "source": [
    "## The Theory\n",
    "### Thermal Conductivity\n",
    "\n",
    "The flow of heat is a feature of our lives that we tend to be relatively familiar with even if we don't think about the details too much. We are aware that thicker insulated walls in our homes mean that less heat moves through the wall. We understand that bigger windows let more heat through than smaller windows. We are very aware that both the outdoor temperature and the indoor temperature have significant impacts on our heating/cooling bills because they drive the flow of heat out of or into our homes.\n",
    "\n",
    "Here is the expression (described as the thermal conductivity equation) that describes that behavior. See if you can see where each of the above effects is captured in the math..... \n",
    "\n",
    "$$ \\normalsize \\frac{dQ}{dt} = \\frac{k A (T(t) - T_{environment})}{L} $$\n",
    "\n",
    "where  \n",
    "\n",
    "$ \\small \\frac{dQ}{dt} $ is the rate of heat flow in J/s (watts)  \n",
    "k is the thermal conductivity of the material through which the heat flows  \n",
    "A is the area through which the heat is flowing  \n",
    "T(t) is the temperature of the hot stuff (changing)  \n",
    "$ \\small T_{environment}$ is the temperature of the environment (the room typically) \n",
    "L is the thickness of the material through which the heat is flowing.  \n",
    "\n",
    "It's irritating for sure but the standard symbol we use for heat is Q which is easily confused with Q for charge --- go figure. Q (heat) is energy so it is measured in units of Joules (J)!\n",
    "\n",
    "Remember that the heat is flowing from the water through the mug to the air. The thermal conductivity is describing the behavior of the mug through which the heat flows.  \n",
    "\n",
    "## Where's the Heat coming from?\n",
    "\n",
    "Well, it's coming from the hot water. We are not surprised that if we remove more heat from the water it will cool down more. It also matters how much material we are trying to cool down and what that materials is. You may have run into this expression in chemistry as well.\n",
    "\n",
    "$$ \\normalsize \\Delta Q = cm\\Delta T $$  \n",
    "\n",
    "where  \n",
    "$ \\small \\Delta Q $ is the heat added or removed  \n",
    "c is the specific heat for material in question  \n",
    "m is the mass of the material (in kg)  \n",
    "$ \\small \\Delta T $ is the change in temperture of the material  \n",
    "\n",
    "Most of these quantities are fairly obvious but the specific heat is a new one. Every material change temperature as we add and remove energy. Not surprisingly each material changes temperature differently for each Joule of energy added or removed. The specific heat is the number which describes those differences. For water, which we are looking at, the magic number is 4184 J/(kg-C). This means that if we add 4186 J to a kg of water it will change temperature 1 degree C. Most other materials take less energy to change temperature.\n",
    "\n",
    "For a small change this can be written.....  \n",
    "\n",
    "$$ \\normalsize dQ = c m dT $$  \n",
    "\n",
    "which we can substitute into the thermal conductivity expression to get....  \n",
    "\n",
    "$$ \\normalsize \\frac{c m dT }{dt} = \\frac{k A (T(t) - T_{environment})}{L} $$  \n",
    "\n",
    "Assuming that the temperature is going down this leads to....  \n",
    "\n",
    "$$ \\normalsize \\frac{dT }{dt} = -\\frac{k A (T(t) - T_{environment})}{c mL} $$  \n",
    "\n",
    "Let's write this in a more simplified form...  \n",
    "\n",
    "$$ \\normalsize \\frac{dT }{dt} = - B T(t) - F $$ \n",
    "\n",
    "This is a differential equation. What it says in words is that the temperature of the water is a function whose first derivative is some constant times itself give or take some other constant. What is a function that has this characteristic?   \n"
   ]
  },
  {
   "cell_type": "markdown",
   "metadata": {},
   "source": [
    "## A Solution to the Differential Equation\n",
    "\n",
    "From a math perspective exponentials are the most common function that have this characteristic. An important thing to remember about differential equations is that if I can find a function that 'works' then it is guaranteed to be the correct solution to the equation. Let's try a solution that is a generalized exponential function with a negative exponent because the temperature is going down.\n",
    "\n",
    "$$ \\normalsize T(t) = Ae^{-bt} + C$$\n",
    "\n",
    "\n",
    "...where T is the temperature, t is the elapsed time, and A, k, and C are various possible constants. If we take the derivative of this trial solution we get.....\n",
    "\n",
    "$$ \\normalsize \\frac{dT(t)}{dt} = -bAe^{-bt}$$  \n",
    "\n",
    "Now we have to figure out what each of the constants represents.\n",
    "\n",
    "### Boundary Conditions\n",
    "\n",
    "A general strategy for all applied science and engineering problems is to take a close look at the boundary conditions for the problem as we seek to understand the specifics of a suspected solution. Boundary conditions usually start with initial conditions and final conditions but can include maximum velocities or other known characteristics of the application. In this case we will start with intial and final conditions and see where we get.\n",
    "\n",
    "### Initial Conditions\n",
    "\n",
    "Initial conditions are general a question about what is happening when t = 0. If we put t = 0 into the previous trial solution we get....\n",
    "\n",
    "$$ \\normalsize T(t)\\bigg\\rvert_{t = 0} = A + C = T_{intial}$$  \n",
    "\n",
    "and...\n",
    "\n",
    "$$ \\normalsize \\frac{dT(t)}{dt}\\bigg\\rvert_{t = 0} = -bA$$ \n",
    "\n",
    "Neither of these expressions allow us to explicitly determine the constants but like always we take note and go on to determine the impact of other boundary conditions before bailing on the process.\n",
    "\n",
    "### When t gets large (long times)\n",
    "\n",
    "When t gets big $ e^{-kt}$ becomes essentially 0. That would then suggest that\n",
    "\n",
    "$$ \\normalsize T(t) \\bigg\\rvert_{t = \\infty} =  C = T_{room}$$  \n",
    "\n",
    "and ...\n",
    "\n",
    "$$ \\normalsize \\frac{dT(t)}{dt} \\bigg\\rvert_{t = \\infty} = 0$$    \n",
    "\n",
    "Well, this helps. Since we now know C we can go back and notice that...\n",
    "\n",
    "$$ \\normalsize A + C = T_{initial} \\rightarrow A + T_{room} = T{initial}$$  \n",
    "\n",
    "so ...\n",
    "\n",
    "$$ \\normalsize A = T_{initial} - T_{room} $$  \n",
    "\n",
    "and ...\n",
    "\n",
    "$$ \\normalsize \\frac{dT(t)}{dt}\\bigg\\rvert_{t = 0} = -b[T_{initial} - T_{room}] $$ \n",
    "\n",
    "but looking back at our previous expression for thermal conductivity we see that....  \n",
    "\n",
    "$$ \\normalsize \\frac{dT }{dt}\\bigg\\rvert_{t = 0} = -\\frac{k A (T_{intial} - T_{environment})}{c mL} $$ \n",
    "\n",
    "Noting that $T_{environment} = T_{room} $ this means....  \n",
    "\n",
    "$$ \\normalsize -b[T_{initial} - T_{room}] = -\\frac{k A (T_{intial} - T_{room})}{c mL} $$  \n",
    "\n",
    "leading to....\n",
    "\n",
    "$$ \\normalsize b = \\frac{k A }{c mL} $$ \n",
    "\n",
    "### Got 'em All!!\n",
    "\n",
    "Putting it all together our solution now looks like ...\n",
    "\n",
    "$$ \\normalsize T(t) = [T_{initial} - T_{room}]e^{-\\frac{k A }{c mL} t} + T_{room}$$  \n"
   ]
  },
  {
   "cell_type": "markdown",
   "metadata": {},
   "source": [
    "## Application to the Data\n",
    "\n",
    "So, how do we apply this to the data? As you may have noticed when we chose constants to fit a general exponential function to our data it had some of these features but now we can be more intentional about our choices for the constants in our curve fit.\n",
    "\n",
    "When we figure out what the A, b, and C constants are for our data we can then extract the heat flow constant ('k') for our experimental setting. The specifics will be documented further down in this notebook.\n",
    "\n"
   ]
  },
  {
   "cell_type": "markdown",
   "metadata": {},
   "source": [
    "### Dependencies\n",
    "\n",
    "The new dependency here is the [Pandas](https://pandas.pydata.org/) library which was developed to support data science applications in python. It is classically imported with the alias pd. It is installed as part of your Anaconda package. When you update Anaconda you can also update Pandas."
   ]
  },
  {
   "cell_type": "code",
   "execution_count": 2,
   "metadata": {},
   "outputs": [],
   "source": [
    "import numpy as np\n",
    "import pandas as pd\n",
    "import matplotlib as mplot\n",
    "import matplotlib.pyplot as plt\n",
    "from numpy.polynomial import polynomial as ply"
   ]
  },
  {
   "cell_type": "markdown",
   "metadata": {},
   "source": [
    "## Upload the data!!\n",
    "\n",
    "Read in your .csv data file. \n"
   ]
  },
  {
   "cell_type": "code",
   "execution_count": 3,
   "metadata": {},
   "outputs": [],
   "source": [
    "dataSmooth = pd.read_csv('data/nextcool.csv',sep='\\t')\n",
    "# print(dataSmooth)"
   ]
  },
  {
   "cell_type": "markdown",
   "metadata": {},
   "source": [
    "## Smoother Data\n",
    "\n",
    "In this data set I took data every 60s instead of every 5s in the previous data set. Here is what the data looks like."
   ]
  },
  {
   "cell_type": "code",
   "execution_count": 5,
   "metadata": {},
   "outputs": [
    {
     "data": {
      "image/png": "[encoded data removed]",
      "text/plain": [
       "<Figure size 720x648 with 1 Axes>"
      ]
     },
     "metadata": {
      "needs_background": "light"
     },
     "output_type": "display_data"
    }
   ],
   "source": [
    "# code cell that creates the plot\n",
    "dataTimeS = dataSmooth['time(s)']\n",
    "dataTempS = dataSmooth['temperature(C)']\n",
    "fig1, ax1 = plt.subplots()\n",
    "ax1.scatter(dataTimeS, dataTempS)\n",
    "\n",
    "# a more explicit way to set labels\n",
    "plt.xlabel('time (s)', fontsize = 10)\n",
    "plt.ylabel('Temperature (C)', fontsize = 10)\n",
    "plt.title('Cooling data', fontsize = 20)\n",
    "\n",
    "fig1.set_size_inches(10, 9)\n",
    "ax1.grid()\n",
    "\n",
    "# fig1.savefig(\"myplot.png\")\n",
    "plt.show()"
   ]
  },
  {
   "cell_type": "markdown",
   "metadata": {},
   "source": [
    "## Exploring Data\n",
    "\n",
    "In science classes we often use data to confirm some discussion or formula that came up in class. As we have talked about in lab it all starts with the data. When we consider the data we should start simple and build towards complexity. In this case the data looks pretty linear so we will start there \n",
    "\n"
   ]
  },
  {
   "cell_type": "markdown",
   "metadata": {},
   "source": [
    "## Our Better Understood Exponential Model\n",
    "\n",
    "From the earlier discussion we now can make more informed choices about constants in our fit to the data from this expression.\n",
    "\n",
    "$$ \\normalsize T(t) = [T_{initial} - T_{room}]e^{-\\frac{k A }{c mL} t} + T_{room}$$  \n",
    "\n",
    "\n",
    "$$ \\Large T(t) = Ae^{-bt} + C$$\n",
    "\n",
    "\n",
    "...where T is the temperature and t is the time. C is the value of the function at t = infinite which would normally be room temperature. A is the initial value of the temperature relative to room temperature. k is the parameter that controls the curvature of the function. Let's try this out.\n",
    "\n"
   ]
  },
  {
   "cell_type": "code",
   "execution_count": null,
   "metadata": {},
   "outputs": [],
   "source": [
    "# find number of data points and create model array\n",
    "numPoints = len(dataTimeS)\n",
    "modelTempExp = np.full_like(dataTimeS,0)\n",
    "\n",
    "# parameters in the exponential model\n",
    "roomTemp = 25. # moves the plot up and down\n",
    "initialTemp = 66.  # combined with previous offset gives initial value\n",
    "bconstant = .0002  # controls rate at which plot bends.\n",
    "\n",
    "# calculate the temperatures predicted from the model\n",
    "modelTempExp = roomTemp + (initialTemp-roomTemp)*np.exp(-bconstant*dataTimeS) \n",
    "\n",
    "# add model array to data frame\n",
    "dataSmooth['modelTExp'] = modelTempExp\n"
   ]
  },
  {
   "cell_type": "code",
   "execution_count": 14,
   "metadata": {},
   "outputs": [
    {
     "data": {
      "image/png": "[encoded data removed]",
      "text/plain": [
       "<Figure size 720x648 with 1 Axes>"
      ]
     },
     "metadata": {
      "needs_background": "light"
     },
     "output_type": "display_data"
    }
   ],
   "source": [
    "# set up data arrays for plots\n",
    "\n",
    "dataModelExp = dataSmooth['modelTExp']\n",
    "fig2, ax2 = plt.subplots()\n",
    "ax2.scatter(dataTimeS, dataTempS, s = 10, alpha = .6)\n",
    "ax2.scatter(dataTimeS, dataModelExp , s = 5, color = 'red')\n",
    "\n",
    "# a more explicit way to set labels\n",
    "plt.xlabel('time (s)', fontsize = 10)\n",
    "plt.ylabel('Temperature (C)', fontsize = 10)\n",
    "plt.title('Cooling data (solution to DE)', fontsize = 20)\n",
    "\n",
    "fig2.set_size_inches(10, 9)\n",
    "ax1.grid()\n",
    "\n",
    "#fig2.savefig(\"myplot.png\")\n",
    "plt.show()"
   ]
  },
  {
   "cell_type": "markdown",
   "metadata": {},
   "source": [
    "## Extracting the Thermal Conductivity Constant (k)\n",
    "\n",
    "Once we have our curve fit for the exponential function we know that..\n",
    "\n",
    "$$ \\normalsize b = \\frac{k A }{c mL} $$ \n",
    "\n",
    "In this expression A is the surface area of the mug (in $m^2$), L is the thickness of the mug (in $m^2$), m is the mass of the water in the mug (in kg), and c is the heat capacity of the water. In all of this we are ignoring the contribution from the mug as an initial starting point. A and L you need to measure and the mass you can get by measuring the volume of your mug in ml which is the same as the mass of the water in grams (the density of water is 1 g/ml)\n",
    "\n",
    "As described in our theory section c is the specific heat of water and has a numerical value of 4186 J/kg-C. We can now calculate the thermal conductivity (k) of the ceramic mug. Here are the numbers I used for my mug. Yours will be different of course.\n",
    "\n",
    "mass of water  -- 300 g = .3 kg\n",
    "area of cylinder - 244.7 $cm^2$ = 0.0244 $m^2$\n",
    "(I ignored the top and bottom because they are well insulated)\n",
    "L (thickness) - 3 mm = 0.003 m\n",
    "\n",
    "$$ \\normalsize k = \\frac{b c mL }{A} $$ \n",
    "\n",
    "Lets do so..."
   ]
  },
  {
   "cell_type": "code",
   "execution_count": 12,
   "metadata": {},
   "outputs": [
    {
     "name": "stdout",
     "output_type": "stream",
     "text": [
      "The thermal conductivity constant indicated by the data is\n",
      " 1.03E-01  W/m-C\n"
     ]
    }
   ],
   "source": [
    "specificHeat = 4186.\n",
    "mugArea = 0.02447\n",
    "mugThick = 0.003\n",
    "massWater = 0.30 \n",
    "konstant = (bconstant*specificHeat*mugThick)/mugArea\n",
    "\n",
    "print(\"The thermal conductivity constant indicated by the data is\")\n",
    "print(\"% 2.2E  W/m-C\" % konstant)"
   ]
  },
  {
   "cell_type": "markdown",
   "metadata": {},
   "source": [
    "## Compare and Comment\n",
    "\n",
    "Compare your value to those listed in this [table of thermal conductivity coefficients](https://www.engineeringtoolbox.com/thermal-conductivity-d_429.html). \n",
    "\n",
    "What I expect is that your value will be lower than the value in the table. This is NOT because you have made an error but because the situation is more complex than it first appears. \n",
    "\n",
    "Comment on the relative difference between your value and the 'accepted' value. Discuss what you think the additional complexities might be and why they would make your value smaller than the official value."
   ]
  },
  {
   "cell_type": "code",
   "execution_count": null,
   "metadata": {},
   "outputs": [],
   "source": []
  }
 ],
 "metadata": {
  "kernelspec": {
   "display_name": "Python 3",
   "language": "python",
   "name": "python3"
  },
  "language_info": {
   "codemirror_mode": {
    "name": "ipython",
    "version": 3
   },
   "file_extension": ".py",
   "mimetype": "text/x-python",
   "name": "python",
   "nbconvert_exporter": "python",
   "pygments_lexer": "ipython3",
   "version": "3.8.5"
  }
 },
 "nbformat": 4,
 "nbformat_minor": 4
}
