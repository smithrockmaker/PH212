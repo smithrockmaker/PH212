{
 "cells": [
  {
   "cell_type": "markdown",
   "metadata": {},
   "source": [
    "# Arduino Intro\n",
    "## PH 212 Lab\n",
    "### March 30 2021\n",
    "\n",
    "While there isn't a lot to do in the Arduino Intro lab I still want to have a python notebook template for what you are turning in. In part this is so students who are new to using python notebooks for this class can get some quick practice creating and turning in this sort of document."
   ]
  },
  {
   "cell_type": "markdown",
   "metadata": {},
   "source": [
    "## Dependencies\n",
    "\n",
    "You would have copied this anyway so here are the dependencies we often need."
   ]
  },
  {
   "cell_type": "code",
   "execution_count": 1,
   "metadata": {},
   "outputs": [],
   "source": [
    "import numpy as np\n",
    "import matplotlib as mplot\n",
    "import matplotlib.pyplot as plt\n",
    "from numpy.polynomial import polynomial as ply"
   ]
  },
  {
   "cell_type": "markdown",
   "metadata": {},
   "source": [
    "### Embedding Code in Markdown\n",
    "\n",
    "As we work with the Arduino micro controller I will want to see your code embedded in your lab notebooks. If you merely copy and paste some code from the Arduino IDE it will look something like this -- yuck!\n",
    "\n",
    "// the loop function runs over and over again forever\n",
    "void loop() {\n",
    "  digitalWrite(LED_BUILTIN, HIGH);   // turn the LED on (HIGH is the voltage level)\n",
    "  delay(100);                       // wait for a second\n",
    "  digitalWrite(LED_BUILTIN, LOW);    // turn the LED off by making the voltage LOW\n",
    "  delay(100);                       // wait for a second\n",
    "}\n",
    "\n",
    "To get it to display in a more useful fashion  we need to find the \\` on our keyboards. This character is called a **backtick** and is somewhere on your keyboard. Find it:) Pasting the code between \\`\\`\\` and \\`\\`\\`  will render it exactly as it looks when you paste it. The same code from above renders like this when wrapped in backticks....\n",
    "\n",
    "```\n",
    "// the loop function runs over and over again forever\n",
    "void loop() {\n",
    "  digitalWrite(LED_BUILTIN, HIGH);   // turn the LED on (HIGH is the voltage level)\n",
    "  delay(100);                       // wait for a second\n",
    "  digitalWrite(LED_BUILTIN, LOW);    // turn the LED off by making the voltage LOW\n",
    "  delay(100);                       // wait for a second\n",
    "}\n",
    "```\n",
    "\n",
    "The markdown interpreter recognizes certain coding languages and will try to provide typical formating help as it displays the code. Arduino code is a form of C so if we put a C after the 3 backticks it will look a little more colorful and be slightly easier to read.\n",
    "\n",
    "```C\n",
    "// the loop function runs over and over again forever\n",
    "void loop() {\n",
    "  digitalWrite(LED_BUILTIN, HIGH);   // turn the LED on (HIGH is the voltage level)\n",
    "  delay(121);                       // wait for a second\n",
    "  digitalWrite(LED_BUILTIN, LOW);    // turn the LED off by making the voltage LOW\n",
    "  delay(2245);                       // wait for a second\n",
    "}\n",
    "```\n",
    "\n",
    "Here is what python code looks like using this tool....\n",
    "\n",
    "```python\n",
    "# code cell that creates the plot\n",
    "\n",
    "fig, ax = plt.subplots()\n",
    "ax.scatter(timedata, tempdata)\n",
    "\n",
    "plt.rcParams.update({'font.size': 16}) # make labels easier to read\n",
    "ax.set(xlabel='drop time (s)', ylabel='drop height (m)',\n",
    "       title='Calibration Data for Rock')\n",
    "ax.grid()\n",
    "\n",
    "fig.savefig(\"myplot.png\")\n",
    "plt.show()\n",
    "```"
   ]
  },
  {
   "cell_type": "markdown",
   "metadata": {},
   "source": [
    "***\n",
    "### Lab Deliverable: Embed your Arduino Code:\n",
    "\n",
    "Embed the loop portion of your Arduino sketch in this notebook for your lab report.\n",
    "***"
   ]
  },
  {
   "cell_type": "markdown",
   "metadata": {},
   "source": [
    "***\n",
    "### Lab Deliverable: Effect of delay() statements:\n",
    "\n",
    "Referring to your previously embedded code describe in your own words how each delay() statement affects the behavior of the built in LED on your Arduino. If you don't see any difference between the effect of the two delay() statements either look more closely or talk to your instructor.\n",
    "***"
   ]
  },
  {
   "cell_type": "markdown",
   "metadata": {},
   "source": [
    "### Arduino Coding Commands\n",
    "\n",
    "We will be learning another coding language to work with the Arduino. The Arduino language is a form of C which is just another common coding language. In the world of Arduinos a program is called a sketch and has a suffic of .ino (probably using the last three letters of Arduino!). In the next lab we will spend some time exploring and understanding the general structure of an Arduino sketch. For this week  we are mostly getting our tools in order and making sure we can get everything to work. There are only two commands that we are looking to understand this week. They are the digitalWrite() and delay() commands. Read through the reference pages that are linked just for the experience. Can you make sense of the information? Are there interesting comments in the warning sections?\n",
    "\n",
    "[digitalWrite() reference](https://www.arduino.cc/reference/en/language/functions/digital-io/digitalwrite/)\n",
    "\n",
    "[delay() reference](https://www.arduino.cc/reference/en/language/functions/time/delay/)"
   ]
  },
  {
   "cell_type": "markdown",
   "metadata": {},
   "source": [
    "***\n",
    "### Lab Deliverable: Reflection:\n",
    "\n",
    "Do you have questions or thoughts about the Arduino hardware or software? It will become more apparent as we go along what you can do with these sorts of devices.\n",
    "***"
   ]
  },
  {
   "cell_type": "code",
   "execution_count": null,
   "metadata": {},
   "outputs": [],
   "source": []
  }
 ],
 "metadata": {
  "kernelspec": {
   "display_name": "Python 3",
   "language": "python",
   "name": "python3"
  },
  "language_info": {
   "codemirror_mode": {
    "name": "ipython",
    "version": 3
   },
   "file_extension": ".py",
   "mimetype": "text/x-python",
   "name": "python",
   "nbconvert_exporter": "python",
   "pygments_lexer": "ipython3",
   "version": "3.8.5"
  }
 },
 "nbformat": 4,
 "nbformat_minor": 4
}
