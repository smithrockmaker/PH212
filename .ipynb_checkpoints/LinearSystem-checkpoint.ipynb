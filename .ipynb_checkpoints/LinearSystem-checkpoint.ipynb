{
 "cells": [
  {
   "cell_type": "markdown",
   "metadata": {},
   "source": [
    "## Linear System Solver\n",
    "\n",
    "Apparently I can set up to solve systems of linear equations with numpy relatively easily. Seems like a useful thing to know how to do.\n",
    "\n",
    "Here's the link to the command [numpy.linalg.solve](https://docs.scipy.org/doc/numpy/reference/generated/numpy.linalg.solve.html)  "
   ]
  },
  {
   "cell_type": "code",
   "execution_count": 8,
   "metadata": {},
   "outputs": [],
   "source": [
    "%matplotlib inline\n",
    "import matplotlib.pyplot as plt\n",
    "import numpy as np\n",
    "import simpy as sp"
   ]
  },
  {
   "cell_type": "markdown",
   "metadata": {},
   "source": [
    "### Example\n",
    "\n",
    "The setup is driven by this model  Ax = b where A is the coefficient matrix, x is the vector of unknowns and b are the constants.  \n",
    "\n",
    "Solve the system of equations   \n",
    "3 * x0 + x1 = 9   \n",
    "x0 + 2 * x1 = 8"
   ]
  },
  {
   "cell_type": "code",
   "execution_count": 2,
   "metadata": {},
   "outputs": [
    {
     "name": "stdout",
     "output_type": "stream",
     "text": [
      "[2. 3.]\n"
     ]
    },
    {
     "data": {
      "text/plain": [
       "True"
      ]
     },
     "execution_count": 2,
     "metadata": {},
     "output_type": "execute_result"
    }
   ],
   "source": [
    "a = np.array([[3,1], [1,2]])\n",
    "b = np.array([9,8])\n",
    "x = np.linalg.solve(a, b)\n",
    "print(x)\n",
    "np.allclose(np.dot(a, x), b)"
   ]
  },
  {
   "cell_type": "markdown",
   "metadata": {},
   "source": [
    "### 'Real' Problem\n",
    "\n",
    "My first 'real' problem is 5.87 from ENGR 211. A 5x5 matrix with a complex setting that makes my intuition uncomfortable. \n",
    "\n",
    "The solution is in kN and the values are reasonably close to my estimates except for the 2nd tension. That tension can't be negative (compression) but because its only 23 N and everything else is 8-20 kN I suspect round off error and the tension should actually be close to 0. We'll see if the students find any mistakes..."
   ]
  },
  {
   "cell_type": "code",
   "execution_count": 3,
   "metadata": {},
   "outputs": [
    {
     "name": "stdout",
     "output_type": "stream",
     "text": [
      "matrix of coefficients: \n",
      " [[-0.667 -0.625  1.     0.     0.   ]\n",
      " [ 0.333  0.469  0.     1.     0.   ]\n",
      " [-0.667  0.625  0.     0.     1.   ]\n",
      " [ 1.33  -1.25   0.     0.     0.   ]\n",
      " [ 0.667  0.938  0.     0.     0.   ]]\n",
      "result vector: \n",
      " [-4.096  3.702 -6.144 24.58  12.29 ]\n"
     ]
    }
   ],
   "source": [
    "coefmatrix = np.array([[-.667, -0.625, 1., 0.,0.,],[.333,.469,0.,1.,0.],[-.667,.625,0.,0.,1.],[1.33, -1.25,0.,0.,0.],[.667,.938,0.,0.,0.]])\n",
    "resultvector = np.array ([-4.096,3.702,-6.144,24.58,12.29])\n",
    "print(\"matrix of coefficients: \\n\",coefmatrix)\n",
    "print(\"result vector: \\n\",resultvector)"
   ]
  },
  {
   "cell_type": "code",
   "execution_count": 5,
   "metadata": {},
   "outputs": [
    {
     "name": "stdout",
     "output_type": "stream",
     "text": [
      "solution vector \n",
      " [18.45900379 -0.02361997  8.20139305 -2.4337705   6.18291801]\n"
     ]
    }
   ],
   "source": [
    "solnvector = np.linalg.solve(coefmatrix,resultvector)\n",
    "print(\"solution vector \\n\", solnvector)"
   ]
  },
  {
   "cell_type": "code",
   "execution_count": null,
   "metadata": {},
   "outputs": [],
   "source": []
  },
  {
   "cell_type": "code",
   "execution_count": null,
   "metadata": {},
   "outputs": [],
   "source": []
  }
 ],
 "metadata": {
  "kernelspec": {
   "display_name": "Python 3",
   "language": "python",
   "name": "python3"
  },
  "language_info": {
   "codemirror_mode": {
    "name": "ipython",
    "version": 3
   },
   "file_extension": ".py",
   "mimetype": "text/x-python",
   "name": "python",
   "nbconvert_exporter": "python",
   "pygments_lexer": "ipython3",
   "version": "3.7.1"
  }
 },
 "nbformat": 4,
 "nbformat_minor": 2
}
