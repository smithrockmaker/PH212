{
 "cells": [
  {
   "cell_type": "markdown",
   "metadata": {},
   "source": [
    "\n",
    "## A Linear System Solver in a Python Notebook\n",
    "### PH 212 COCC\n",
    "#### Bruce Emerson 8/10/20\n",
    "\n",
    "When we use Kirchoff's Laws to solve circuit problems we often end up with fairly extensive systems of linear equations. In the 'old' days we used to solve 5 or 6 unknowns in 5 or 6 equations as a normal part of the curriculum. It was also uphill both ways to and from school and the snow was 1.5 m deep most days until June!\n",
    "\n",
    "While the math is a beautiful thing we also need to be able to make the tools work for us in more pragmatic situations. That is the purpose of this notebook.\n"
   ]
  },
  {
   "cell_type": "markdown",
   "metadata": {},
   "source": [
    "## My System of Equations\n",
    "\n",
    "### Node Equations  \n",
    "$ I_0 = I_1+I_2 $ or $ I_0 -I_1-I_2 = 0 $  \n",
    "$ I_1+I_2  = I_3 + I_4 $ or $ I_1+I_2 - I_3 - I_4 = 0 $   \n",
    "### Loop Equations  \n",
    "$ 100 I_1 +350 I_3 = 24 $  \n",
    "$ 100 I_1 -250 I_2 = 0 $  \n",
    "$ 350 I_3 -200 I_4 = 0 $  \n",
    "\n",
    "To define the matrix that is needed to solve this system of equations we need to define the coefficient matrix and the ?? vector. In the following matrix the first row isn't really part of the matrix but is just a label for the columns.  \n",
    "$$\n",
    "\\begin{pmatrix}\n",
    "I_0 & I_1 & I_2 & I_3 & I_4 & cnst \\\\\n",
    "1 & -1 & -1 & 0 & 0 & 0 \\\\\n",
    "0 & 1 & 1 & -1 & -1 & 0 \\\\\n",
    "0 & 100 & 0 & 350 & 0 & 24 \\\\  \n",
    "0 & 100 & -250 & 0 & 0 & 0 \\\\ \n",
    "0 & 0 & 0 & 350 & -200 & 0 \\\\ \n",
    "\\end{pmatrix}\n",
    "$$\n",
    "\n",
    "### Rendering Matrices!\n",
    "As an aside it was interesting to learn how to render a matrix nicely in markdown so here's an example that has some interesting tools embedded..\n",
    "$$\n",
    "\\begin{pmatrix}\n",
    "a_{1,1} & a_{1,2} & \\cdots & a_{1,n} \\\\\n",
    "a_{2,1} & a_{2,2} & \\cdots & a_{2,n} \\\\\n",
    "\\vdots  & \\vdots  & \\ddots & \\vdots  \\\\\n",
    "a_{m,1} & a_{m,2} & \\cdots & a_{m,n} \n",
    "\\end{pmatrix}\n",
    "$$"
   ]
  },
  {
   "cell_type": "markdown",
   "metadata": {},
   "source": [
    "### Dependencies\n",
    "\n",
    "The tool I am using is the linear problem solver from numpy so the other libraries are just superfluous at this point but I'm keeping them in to be consistent."
   ]
  },
  {
   "cell_type": "code",
   "execution_count": 1,
   "metadata": {},
   "outputs": [],
   "source": [
    "import numpy as np\n",
    "import pandas as pd\n",
    "import matplotlib as mplot\n",
    "import matplotlib.pyplot as plt\n",
    "from numpy.polynomial import polynomial as ply"
   ]
  },
  {
   "cell_type": "markdown",
   "metadata": {},
   "source": [
    "## Quick Example\n",
    "\n",
    "Here is a quick example of the format of the linear solver.\n",
    "3x + y = 9  \n",
    "x + 2y = 8\n",
    "\n",
    "```\n",
    "a = np.array([[3,1], [1,2]])\n",
    "b = np.array([9,8])\n",
    "x = np.linalg.solve(a, b)\n",
    "x\n",
    "```"
   ]
  },
  {
   "cell_type": "code",
   "execution_count": 4,
   "metadata": {},
   "outputs": [
    {
     "data": {
      "text/plain": [
       "array([2., 3.])"
      ]
     },
     "execution_count": 4,
     "metadata": {},
     "output_type": "execute_result"
    }
   ],
   "source": [
    "a = np.array([[3.,1.], [1.,2.]])\n",
    "b = np.array([9.,8.])\n",
    "x = np.linalg.solve(a, b)\n",
    "x"
   ]
  },
  {
   "cell_type": "markdown",
   "metadata": {},
   "source": [
    "## Solving a Kirchoff's Law Problem\n",
    "\n",
    "Looking at our previously defined problem here is the relationship between the equations and the implementation in python.\n",
    "\n",
    "$$\n",
    "\\begin{pmatrix}\n",
    "I_0 & I_1 & I_2 & I_3 & I_4 & cnst \\\\\n",
    "1 & -1 & -1 & 0 & 0 & 0 \\\\\n",
    "0 & 1 & 1 & -1 & -1 & 0 \\\\\n",
    "0 & 100 & 0 & 350 & 0 & 24 \\\\  \n",
    "0 & 100 & -250 & 0 & 0 & 0 \\\\ \n",
    "0 & 0 & 0 & 350 & -200 & 0 \\\\ \n",
    "\\end{pmatrix}\n",
    "$$  \n",
    "Hopefully the connection between the set up of the problem and the implementation below is clear...  \n",
    "```\n",
    "# each of the following arrays need to have the same number of 'rows'\n",
    "coefMatrix = np.array([[1.,-1., -1, 0., 0.],\\\n",
    "                       [0.,1., 1., -1., -1.],\\\n",
    "                       [0.,100., 0, 350., 0.],\\\n",
    "                       [0.,100., -250, 0., 0.],\\\n",
    "                       [0.,0., 0., 350., -200.]])\n",
    "rightVector = np.array([0.,\\\n",
    "                        0.,\\\n",
    "                        24.,\\\n",
    "                        0.,\\\n",
    "                        0.])\n",
    "```"
   ]
  },
  {
   "cell_type": "code",
   "execution_count": 7,
   "metadata": {},
   "outputs": [
    {
     "data": {
      "text/plain": [
       "array([0.12078431, 0.08627451, 0.0345098 , 0.04392157, 0.07686275])"
      ]
     },
     "execution_count": 7,
     "metadata": {},
     "output_type": "execute_result"
    }
   ],
   "source": [
    "# each of the following arrays need to have the same number of 'rows'\n",
    "coefMatrix = np.array([[1.,-1., -1, 0., 0.],\\\n",
    "                       [0.,1., 1., -1., -1.],\\\n",
    "                       [0.,100., 0, 350., 0.],\\\n",
    "                       [0.,100., -250, 0., 0.],\\\n",
    "                       [0.,0., 0., 350., -200.]])\n",
    "rightVector = np.array([0.,\\\n",
    "                        0.,\\\n",
    "                        24.,\\\n",
    "                        0.,\\\n",
    "                        0.])\n",
    "results = np.linalg.solve(coefMatrix, rightVector)\n",
    "\n",
    "results"
   ]
  },
  {
   "cell_type": "markdown",
   "metadata": {},
   "source": [
    "## Solution\n",
    "\n",
    "This solution matches my manual solution except for being more precise."
   ]
  }
 ],
 "metadata": {
  "kernelspec": {
   "display_name": "Python 3",
   "language": "python",
   "name": "python3"
  },
  "language_info": {
   "codemirror_mode": {
    "name": "ipython",
    "version": 3
   },
   "file_extension": ".py",
   "mimetype": "text/x-python",
   "name": "python",
   "nbconvert_exporter": "python",
   "pygments_lexer": "ipython3",
   "version": "3.7.7"
  }
 },
 "nbformat": 4,
 "nbformat_minor": 4
}
