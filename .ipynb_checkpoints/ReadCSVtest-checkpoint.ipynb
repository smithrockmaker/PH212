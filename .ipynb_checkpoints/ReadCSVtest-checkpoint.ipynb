{
 "cells": [
  {
   "cell_type": "markdown",
   "metadata": {},
   "source": [
    "\n",
    "## Test for Reading CSV files\n",
    "### PH 212 COCC\n",
    "#### Bruce Emerson 7/27/20\n",
    "\n",
    "As we have been working with the Arduino to create a data logger which records data on a microSD card. Assuming we format the file appropriately as a csv file the pandas library is delighted to read the data into what's called a data frame. \n",
    "\n",
    "This quick notebook is an initial test of that process.\n"
   ]
  },
  {
   "cell_type": "markdown",
   "metadata": {},
   "source": [
    "### Dependencies\n",
    "\n",
    "The new dependency here is the [Pandas](https://pandas.pydata.org/) library which was developed to support data science applications in python. It is classically imported with the alias pd. It is installed as part of your Anaconda package. When you update Anaconda you can also update Pandas."
   ]
  },
  {
   "cell_type": "code",
   "execution_count": 1,
   "metadata": {},
   "outputs": [],
   "source": [
    "import numpy as np\n",
    "import pandas as pd\n",
    "import matplotlib as mplot\n",
    "import matplotlib.pyplot as plt\n",
    "from numpy.polynomial import polynomial as ply"
   ]
  },
  {
   "cell_type": "markdown",
   "metadata": {},
   "source": [
    "### Read csv from Pandas\n",
    "\n",
    "As we get deeper into python we will need to begin to develop a richer understanding of how python works. We can do this incrementally so don't panic. In Pandas there are a variety of [data structures](https://pandas.pydata.org/docs/user_guide/dsintro.html#dataframe) which are described in the pandas documentation. There is clearly a lot to learn be we will focus on [data frames](https://pandas.pydata.org/docs/user_guide/dsintro.html#dataframe) which are a data structure that matches our normal understanding of a two dimensional data set.\n",
    "\n",
    "Notice that this data set (daily covid data for Oregon from [The COVID Tracking Project](https://covidtracking.com/data/download). In the printout of the data set the dots represent additional data not explicitly displayed but it's there."
   ]
  },
  {
   "cell_type": "code",
   "execution_count": 9,
   "metadata": {},
   "outputs": [
    {
     "name": "stdout",
     "output_type": "stream",
     "text": [
      "         date state  positive  negative  pending  hospitalizedCurrently  \\\n",
      "0    20200728    OR     17416    370240      NaN                  230.0   \n",
      "1    20200727    OR     17088    365478      NaN                  237.0   \n",
      "2    20200726    OR     16758    361717      NaN                  233.0   \n",
      "3    20200725    OR     16492    357518      NaN                  233.0   \n",
      "4    20200724    OR     16104    350463      NaN                  233.0   \n",
      "..        ...   ...       ...       ...      ...                    ...   \n",
      "142  20200308    OR        14       100     53.0                    NaN   \n",
      "143  20200307    OR         7        77     40.0                    NaN   \n",
      "144  20200306    OR         3        64     28.0                    NaN   \n",
      "145  20200305    OR         3        45     13.0                    NaN   \n",
      "146  20200304    OR         3        29     18.0                    NaN   \n",
      "\n",
      "     hospitalizedCumulative  inIcuCurrently  inIcuCumulative  \\\n",
      "0                    1537.0            58.0              NaN   \n",
      "1                    1514.0            58.0              NaN   \n",
      "2                    1474.0            58.0              NaN   \n",
      "3                    1474.0            58.0              NaN   \n",
      "4                    1474.0            58.0              NaN   \n",
      "..                      ...             ...              ...   \n",
      "142                     NaN             NaN              NaN   \n",
      "143                     NaN             NaN              NaN   \n",
      "144                     NaN             NaN              NaN   \n",
      "145                     NaN             NaN              NaN   \n",
      "146                     NaN             NaN              NaN   \n",
      "\n",
      "     onVentilatorCurrently  ...  posNeg  deathIncrease hospitalizedIncrease  \\\n",
      "0                     31.0  ...  387656             14                   23   \n",
      "1                     27.0  ...  382566              0                   40   \n",
      "2                     30.0  ...  378475              3                    0   \n",
      "3                     30.0  ...  374010              4                    0   \n",
      "4                     30.0  ...  366567              9                    9   \n",
      "..                     ...  ...     ...            ...                  ...   \n",
      "142                    NaN  ...     114              0                    0   \n",
      "143                    NaN  ...      84              0                    0   \n",
      "144                    NaN  ...      67              0                    0   \n",
      "145                    NaN  ...      48              0                    0   \n",
      "146                    NaN  ...      32              0                    0   \n",
      "\n",
      "                                         hash commercialScore  \\\n",
      "0    96abe6bb54ba6d88a3440eab36b86ec7c5ae3622               0   \n",
      "1    be3ecd458d3867e1fb66cfd077666fca4358b62f               0   \n",
      "2    54dea5baf0dcf26dd1c99f24686bec347ea9e1b3               0   \n",
      "3    610b9da53f838371cbd170b6d6d827fb5e0c5382               0   \n",
      "4    75e48d1c994652156907d3edca6b6aea4c9bbedc               0   \n",
      "..                                        ...             ...   \n",
      "142  00e412e90420e8f27899205a123ab1eb13a68da8               0   \n",
      "143  4d9b12762bde969bb8bd975ac494183a779a29f1               0   \n",
      "144  448227d63e63ce534c644835d58a69c34e69a2bc               0   \n",
      "145  f60adaeef1583bc463fd248f9083ffcb08852536               0   \n",
      "146  9e7254c20ae55dc9dc6c8fb58c9a270c3a704c2e               0   \n",
      "\n",
      "    negativeRegularScore  negativeScore  positiveScore score  grade  \n",
      "0                      0              0              0     0    NaN  \n",
      "1                      0              0              0     0    NaN  \n",
      "2                      0              0              0     0    NaN  \n",
      "3                      0              0              0     0    NaN  \n",
      "4                      0              0              0     0    NaN  \n",
      "..                   ...            ...            ...   ...    ...  \n",
      "142                    0              0              0     0    NaN  \n",
      "143                    0              0              0     0    NaN  \n",
      "144                    0              0              0     0    NaN  \n",
      "145                    0              0              0     0    NaN  \n",
      "146                    0              0              0     0    NaN  \n",
      "\n",
      "[147 rows x 41 columns]\n"
     ]
    }
   ],
   "source": [
    "dataSet = pd.read_csv(\"data/OregonDailydata.csv\")\n",
    "print(dataSet)"
   ]
  },
  {
   "cell_type": "markdown",
   "metadata": {},
   "source": [
    "### DataFrame Attributes\n",
    "\n",
    "DataFrame is a python class which is to say it is a creature that has various predefined characteristics called attributes. These are created to make pulling out hte portion of the data set that you want "
   ]
  },
  {
   "cell_type": "code",
   "execution_count": 10,
   "metadata": {},
   "outputs": [
    {
     "name": "stdout",
     "output_type": "stream",
     "text": [
      "RangeIndex(start=0, stop=147, step=1)\n"
     ]
    }
   ],
   "source": [
    "print(dataSet.index)"
   ]
  },
  {
   "cell_type": "code",
   "execution_count": null,
   "metadata": {},
   "outputs": [],
   "source": []
  },
  {
   "cell_type": "markdown",
   "metadata": {},
   "source": [
    "pd.DataFrame(d, index=['d', 'b', 'a'], columns=['two', 'three'])"
   ]
  },
  {
   "cell_type": "code",
   "execution_count": 18,
   "metadata": {},
   "outputs": [
    {
     "data": {
      "text/html": [
       "<div>\n",
       "<style scoped>\n",
       "    .dataframe tbody tr th:only-of-type {\n",
       "        vertical-align: middle;\n",
       "    }\n",
       "\n",
       "    .dataframe tbody tr th {\n",
       "        vertical-align: top;\n",
       "    }\n",
       "\n",
       "    .dataframe thead th {\n",
       "        text-align: right;\n",
       "    }\n",
       "</style>\n",
       "<table border=\"1\" class=\"dataframe\">\n",
       "  <thead>\n",
       "    <tr style=\"text-align: right;\">\n",
       "      <th></th>\n",
       "      <th>date</th>\n",
       "      <th>positive</th>\n",
       "    </tr>\n",
       "  </thead>\n",
       "  <tbody>\n",
       "    <tr>\n",
       "      <th>0</th>\n",
       "      <td>20200728</td>\n",
       "      <td>17416</td>\n",
       "    </tr>\n",
       "    <tr>\n",
       "      <th>1</th>\n",
       "      <td>20200727</td>\n",
       "      <td>17088</td>\n",
       "    </tr>\n",
       "    <tr>\n",
       "      <th>2</th>\n",
       "      <td>20200726</td>\n",
       "      <td>16758</td>\n",
       "    </tr>\n",
       "    <tr>\n",
       "      <th>3</th>\n",
       "      <td>20200725</td>\n",
       "      <td>16492</td>\n",
       "    </tr>\n",
       "    <tr>\n",
       "      <th>4</th>\n",
       "      <td>20200724</td>\n",
       "      <td>16104</td>\n",
       "    </tr>\n",
       "    <tr>\n",
       "      <th>...</th>\n",
       "      <td>...</td>\n",
       "      <td>...</td>\n",
       "    </tr>\n",
       "    <tr>\n",
       "      <th>142</th>\n",
       "      <td>20200308</td>\n",
       "      <td>14</td>\n",
       "    </tr>\n",
       "    <tr>\n",
       "      <th>143</th>\n",
       "      <td>20200307</td>\n",
       "      <td>7</td>\n",
       "    </tr>\n",
       "    <tr>\n",
       "      <th>144</th>\n",
       "      <td>20200306</td>\n",
       "      <td>3</td>\n",
       "    </tr>\n",
       "    <tr>\n",
       "      <th>145</th>\n",
       "      <td>20200305</td>\n",
       "      <td>3</td>\n",
       "    </tr>\n",
       "    <tr>\n",
       "      <th>146</th>\n",
       "      <td>20200304</td>\n",
       "      <td>3</td>\n",
       "    </tr>\n",
       "  </tbody>\n",
       "</table>\n",
       "<p>147 rows × 2 columns</p>\n",
       "</div>"
      ],
      "text/plain": [
       "         date  positive\n",
       "0    20200728     17416\n",
       "1    20200727     17088\n",
       "2    20200726     16758\n",
       "3    20200725     16492\n",
       "4    20200724     16104\n",
       "..        ...       ...\n",
       "142  20200308        14\n",
       "143  20200307         7\n",
       "144  20200306         3\n",
       "145  20200305         3\n",
       "146  20200304         3\n",
       "\n",
       "[147 rows x 2 columns]"
      ]
     },
     "execution_count": 18,
     "metadata": {},
     "output_type": "execute_result"
    }
   ],
   "source": [
    "pd.DataFrame(dataSet, columns = ['date','positive'])"
   ]
  },
  {
   "cell_type": "code",
   "execution_count": null,
   "metadata": {},
   "outputs": [],
   "source": []
  }
 ],
 "metadata": {
  "kernelspec": {
   "display_name": "Python 3",
   "language": "python",
   "name": "python3"
  },
  "language_info": {
   "codemirror_mode": {
    "name": "ipython",
    "version": 3
   },
   "file_extension": ".py",
   "mimetype": "text/x-python",
   "name": "python",
   "nbconvert_exporter": "python",
   "pygments_lexer": "ipython3",
   "version": "3.7.7"
  }
 },
 "nbformat": 4,
 "nbformat_minor": 4
}
