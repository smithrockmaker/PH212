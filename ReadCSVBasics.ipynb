{
 "cells": [
  {
   "cell_type": "markdown",
   "metadata": {},
   "source": [
    "\n",
    "## Test for Reading CSV files\n",
    "### PH 212 COCC\n",
    "#### Bruce Emerson 7/27/20\n",
    "\n",
    "As we have been working with the Arduino to create a data logger which records data on a microSD card. Assuming we format the file appropriately as a csv file the pandas library is delighted to read the data into what's called a data frame. \n",
    "\n",
    "This quick notebook is an initial test of that process.\n"
   ]
  },
  {
   "cell_type": "markdown",
   "metadata": {},
   "source": [
    "### Dependencies\n",
    "\n",
    "The new dependency here is the [Pandas](https://pandas.pydata.org/) library which was developed to support data science applications in python. It is classically imported with the alias pd. It is installed as part of your Anaconda package. When you update Anaconda you can also update Pandas."
   ]
  },
  {
   "cell_type": "code",
   "execution_count": 56,
   "metadata": {},
   "outputs": [],
   "source": [
    "import numpy as np\n",
    "import pandas as pd\n",
    "import matplotlib as mplot\n",
    "import matplotlib.pyplot as plt\n",
    "from numpy.polynomial import polynomial as ply"
   ]
  },
  {
   "cell_type": "markdown",
   "metadata": {},
   "source": [
    "### Read csv from Pandas\n",
    "\n",
    "As we get deeper into python we will need to begin to develop a richer understanding of how python works. We can do this incrementally so don't panic. In Pandas there are a variety of [data structures](https://pandas.pydata.org/docs/user_guide/dsintro.html#dataframe) which are described in the pandas documentation. There is clearly a lot to learn be we will focus on [data frames](https://pandas.pydata.org/docs/user_guide/dsintro.html#dataframe) which are a data structure that matches our normal understanding of a two dimensional data set.\n",
    "\n",
    "Notice that this data set (daily covid data for Oregon from [The COVID Tracking Project](https://covidtracking.com/data/download). In the printout of the data set the dots represent additional data not explicitly displayed but it's there.\n",
    "\n",
    "## Download the data!!\n",
    "\n",
    "Go to the link above and down load the data for Oregon and save it. I created a data folder to hold this and other data files. The format in the read statement below tells the pd.read_csv function to look in the data folder for a csv file called OregonDailydata.csv. The data is on my git repo but it's not easy to download just that file. Easier for you to go download it."
   ]
  },
  {
   "cell_type": "code",
   "execution_count": 60,
   "metadata": {},
   "outputs": [
    {
     "name": "stdout",
     "output_type": "stream",
     "text": [
      "         date state  positive  negative  pending  hospitalizedCurrently  \\\n",
      "0    20200728    OR     17416    370240      NaN                  230.0   \n",
      "1    20200727    OR     17088    365478      NaN                  237.0   \n",
      "2    20200726    OR     16758    361717      NaN                  233.0   \n",
      "3    20200725    OR     16492    357518      NaN                  233.0   \n",
      "4    20200724    OR     16104    350463      NaN                  233.0   \n",
      "..        ...   ...       ...       ...      ...                    ...   \n",
      "142  20200308    OR        14       100     53.0                    NaN   \n",
      "143  20200307    OR         7        77     40.0                    NaN   \n",
      "144  20200306    OR         3        64     28.0                    NaN   \n",
      "145  20200305    OR         3        45     13.0                    NaN   \n",
      "146  20200304    OR         3        29     18.0                    NaN   \n",
      "\n",
      "     hospitalizedCumulative  inIcuCurrently  inIcuCumulative  \\\n",
      "0                    1537.0            58.0              NaN   \n",
      "1                    1514.0            58.0              NaN   \n",
      "2                    1474.0            58.0              NaN   \n",
      "3                    1474.0            58.0              NaN   \n",
      "4                    1474.0            58.0              NaN   \n",
      "..                      ...             ...              ...   \n",
      "142                     NaN             NaN              NaN   \n",
      "143                     NaN             NaN              NaN   \n",
      "144                     NaN             NaN              NaN   \n",
      "145                     NaN             NaN              NaN   \n",
      "146                     NaN             NaN              NaN   \n",
      "\n",
      "     onVentilatorCurrently  ...  posNeg  deathIncrease hospitalizedIncrease  \\\n",
      "0                     31.0  ...  387656             14                   23   \n",
      "1                     27.0  ...  382566              0                   40   \n",
      "2                     30.0  ...  378475              3                    0   \n",
      "3                     30.0  ...  374010              4                    0   \n",
      "4                     30.0  ...  366567              9                    9   \n",
      "..                     ...  ...     ...            ...                  ...   \n",
      "142                    NaN  ...     114              0                    0   \n",
      "143                    NaN  ...      84              0                    0   \n",
      "144                    NaN  ...      67              0                    0   \n",
      "145                    NaN  ...      48              0                    0   \n",
      "146                    NaN  ...      32              0                    0   \n",
      "\n",
      "                                         hash commercialScore  \\\n",
      "0    96abe6bb54ba6d88a3440eab36b86ec7c5ae3622               0   \n",
      "1    be3ecd458d3867e1fb66cfd077666fca4358b62f               0   \n",
      "2    54dea5baf0dcf26dd1c99f24686bec347ea9e1b3               0   \n",
      "3    610b9da53f838371cbd170b6d6d827fb5e0c5382               0   \n",
      "4    75e48d1c994652156907d3edca6b6aea4c9bbedc               0   \n",
      "..                                        ...             ...   \n",
      "142  00e412e90420e8f27899205a123ab1eb13a68da8               0   \n",
      "143  4d9b12762bde969bb8bd975ac494183a779a29f1               0   \n",
      "144  448227d63e63ce534c644835d58a69c34e69a2bc               0   \n",
      "145  f60adaeef1583bc463fd248f9083ffcb08852536               0   \n",
      "146  9e7254c20ae55dc9dc6c8fb58c9a270c3a704c2e               0   \n",
      "\n",
      "    negativeRegularScore  negativeScore  positiveScore score  grade  \n",
      "0                      0              0              0     0    NaN  \n",
      "1                      0              0              0     0    NaN  \n",
      "2                      0              0              0     0    NaN  \n",
      "3                      0              0              0     0    NaN  \n",
      "4                      0              0              0     0    NaN  \n",
      "..                   ...            ...            ...   ...    ...  \n",
      "142                    0              0              0     0    NaN  \n",
      "143                    0              0              0     0    NaN  \n",
      "144                    0              0              0     0    NaN  \n",
      "145                    0              0              0     0    NaN  \n",
      "146                    0              0              0     0    NaN  \n",
      "\n",
      "[147 rows x 41 columns]\n"
     ]
    }
   ],
   "source": [
    "dataSet = pd.read_csv('data/OregonDailydata.csv')\n",
    "print(dataSet)"
   ]
  },
  {
   "cell_type": "markdown",
   "metadata": {},
   "source": [
    "### DataFrame Attributes\n",
    "\n",
    "DataFrame is a python class which is to say it is a creature that has various predefined characteristics called attributes. These are created to make pulling out discrete portions of the data set easier. What I would want you to understand is that these attributes exist and you can recognize them in the code when you see and object like out dataSet (which is a DataFrame) with a .something appended to it. \n",
    "\n",
    "Here is a stragtegy if you want to see everything. The dir() command asks python to look at the code in the library that is associated with the class (in this case a DataFrame) and just list all the files in that library. This is definitely overkill but will give you a sense of what's out there. The ones we are most interested in are at the end of the list and are of the from 'name'. \n",
    "\n",
    "Once you know about a particular attribute if you search for that attribute you may find a useful guide on the web. Here is the [documentation for the attributes of the DataFrame class](https://pandas.pydata.org/pandas-docs/stable/reference/frame.html)\n"
   ]
  },
  {
   "cell_type": "code",
   "execution_count": null,
   "metadata": {},
   "outputs": [],
   "source": [
    "dir(pd.DataFrame)"
   ]
  },
  {
   "cell_type": "markdown",
   "metadata": {},
   "source": [
    "### Using Attributes\n",
    "\n",
    "Here are some examples:\n",
    "\n",
    "dataSet.index -- tells up how many lines are in the object (notice header + 146 lines = 0 to 147)   \n",
    "dataSet.columns -- gives me the names of the columns from the header row.  \n",
    "dataSet.dtypes -- tells me what sort of data is in each column.  "
   ]
  },
  {
   "cell_type": "code",
   "execution_count": 28,
   "metadata": {},
   "outputs": [
    {
     "name": "stdout",
     "output_type": "stream",
     "text": [
      "RangeIndex(start=0, stop=147, step=1)\n",
      "Index(['date', 'state', 'positive', 'negative', 'pending',\n",
      "       'hospitalizedCurrently', 'hospitalizedCumulative', 'inIcuCurrently',\n",
      "       'inIcuCumulative', 'onVentilatorCurrently', 'onVentilatorCumulative',\n",
      "       'recovered', 'dataQualityGrade', 'lastUpdateEt', 'dateModified',\n",
      "       'checkTimeEt', 'death', 'hospitalized', 'dateChecked',\n",
      "       'totalTestsViral', 'positiveTestsViral', 'negativeTestsViral',\n",
      "       'positiveCasesViral', 'deathConfirmed', 'deathProbable', 'fips',\n",
      "       'positiveIncrease', 'negativeIncrease', 'total', 'totalTestResults',\n",
      "       'totalTestResultsIncrease', 'posNeg', 'deathIncrease',\n",
      "       'hospitalizedIncrease', 'hash', 'commercialScore',\n",
      "       'negativeRegularScore', 'negativeScore', 'positiveScore', 'score',\n",
      "       'grade'],\n",
      "      dtype='object')\n",
      "date                          int64\n",
      "state                        object\n",
      "positive                      int64\n",
      "negative                      int64\n",
      "pending                     float64\n",
      "hospitalizedCurrently       float64\n",
      "hospitalizedCumulative      float64\n",
      "inIcuCurrently              float64\n",
      "inIcuCumulative             float64\n",
      "onVentilatorCurrently       float64\n",
      "onVentilatorCumulative      float64\n",
      "recovered                   float64\n",
      "dataQualityGrade             object\n",
      "lastUpdateEt                 object\n",
      "dateModified                 object\n",
      "checkTimeEt                  object\n",
      "death                       float64\n",
      "hospitalized                float64\n",
      "dateChecked                  object\n",
      "totalTestsViral             float64\n",
      "positiveTestsViral          float64\n",
      "negativeTestsViral          float64\n",
      "positiveCasesViral          float64\n",
      "deathConfirmed              float64\n",
      "deathProbable               float64\n",
      "fips                          int64\n",
      "positiveIncrease              int64\n",
      "negativeIncrease              int64\n",
      "total                         int64\n",
      "totalTestResults              int64\n",
      "totalTestResultsIncrease      int64\n",
      "posNeg                        int64\n",
      "deathIncrease                 int64\n",
      "hospitalizedIncrease          int64\n",
      "hash                         object\n",
      "commercialScore               int64\n",
      "negativeRegularScore          int64\n",
      "negativeScore                 int64\n",
      "positiveScore                 int64\n",
      "score                         int64\n",
      "grade                       float64\n",
      "dtype: object\n"
     ]
    }
   ],
   "source": [
    "print(dataSet.index)\n",
    "print(dataSet.columns)\n",
    "print(dataSet.dtypes)"
   ]
  },
  {
   "cell_type": "markdown",
   "metadata": {},
   "source": [
    "### Plotting Data from a DataFrame\n",
    "\n",
    "Now we can use these attributes to plot portions of the data from within the data set as we choose. This can be done more efficiently than I'm going to do it here but I want to be more explicit about what I'm doing for clarity.\n",
    "\n",
    "I'm going to print out the date data so you can see how it changes in a minute.\n"
   ]
  },
  {
   "cell_type": "code",
   "execution_count": 50,
   "metadata": {},
   "outputs": [
    {
     "name": "stdout",
     "output_type": "stream",
     "text": [
      "0      20200728\n",
      "1      20200727\n",
      "2      20200726\n",
      "3      20200725\n",
      "4      20200724\n",
      "         ...   \n",
      "142    20200308\n",
      "143    20200307\n",
      "144    20200306\n",
      "145    20200305\n",
      "146    20200304\n",
      "Name: date, Length: 147, dtype: int64\n"
     ]
    }
   ],
   "source": [
    "dataDate = dataSet['date']\n",
    "dataPositive = dataSet['positiveIncrease']\n",
    "\n",
    "print(dataDate)"
   ]
  },
  {
   "cell_type": "code",
   "execution_count": 51,
   "metadata": {},
   "outputs": [
    {
     "data": {
      "image/png": "[encoded data removed]",
      "text/plain": [
       "<Figure size 432x288 with 1 Axes>"
      ]
     },
     "metadata": {
      "needs_background": "light"
     },
     "output_type": "display_data"
    }
   ],
   "source": [
    "# code cell that creates the plot\n",
    "\n",
    "fig, ax = plt.subplots()\n",
    "ax.scatter(dataDate, dataPositive)\n",
    "\n",
    "plt.rcParams.update({'font.size': 16}) # make labels easier to read\n",
    "plt.xticks(rotation='vertical')\n",
    "ax.set(xlabel='Date', ylabel='Positive Tests',\n",
    "       title='COVID Test Data for Oregon')\n",
    "ax.grid()\n",
    "\n",
    "fig.savefig(\"myplot.png\")\n",
    "plt.show()"
   ]
  },
  {
   "cell_type": "markdown",
   "metadata": {},
   "source": [
    "### Issues with the Date\n",
    "\n",
    "So what are those wierd hops in the data? If you stop and look at the date data, which is an integer, there is a 'hop' in the data as the months switch. We need to put that data in a different format so the plotting routine recognizes it as a date. pandas has a tool for that call to_datetime. We feed the tool the original date data and tell it what to expect for the format (year first, day first, what ever - the [format codes you might need are here](https://docs.python.org/3/library/datetime.html#strftime-and-strptime-behavior).) For this we need a 4 digit year (%Y), and then 2 digit month and day (%m, %d). Pandas reformats the data in a way that the plotting routines recognize as dates rather than numbers. "
   ]
  },
  {
   "cell_type": "code",
   "execution_count": 52,
   "metadata": {},
   "outputs": [
    {
     "name": "stdout",
     "output_type": "stream",
     "text": [
      "0     2020-07-28\n",
      "1     2020-07-27\n",
      "2     2020-07-26\n",
      "3     2020-07-25\n",
      "4     2020-07-24\n",
      "         ...    \n",
      "142   2020-03-08\n",
      "143   2020-03-07\n",
      "144   2020-03-06\n",
      "145   2020-03-05\n",
      "146   2020-03-04\n",
      "Name: date, Length: 147, dtype: datetime64[ns]\n"
     ]
    }
   ],
   "source": [
    "dataDate = pd.to_datetime(dataSet['date'], format = '%Y%m%d')\n",
    "dataPositive = dataSet['positiveIncrease']\n",
    "\n",
    "print(dataDate)"
   ]
  },
  {
   "cell_type": "markdown",
   "metadata": {},
   "source": [
    "### Plot again\n",
    "\n",
    "```\n",
    "plt.xticks(rotation='vertical')\n",
    "```\n",
    "rotates the labels on the x axis so they don't overlap and make a mess. Comment out that line of the code and see what happens."
   ]
  },
  {
   "cell_type": "code",
   "execution_count": 54,
   "metadata": {},
   "outputs": [
    {
     "data": {
      "image/png": "[encoded data removed]",
      "text/plain": [
       "<Figure size 432x288 with 1 Axes>"
      ]
     },
     "metadata": {
      "needs_background": "light"
     },
     "output_type": "display_data"
    }
   ],
   "source": [
    "# code cell that creates the plot\n",
    "\n",
    "fig, ax = plt.subplots()\n",
    "ax.scatter(dataDate, dataPositive)\n",
    "\n",
    "plt.rcParams.update({'font.size': 16}) # make labels easier to read\n",
    "plt.xticks(rotation='vertical')\n",
    "ax.set(xlabel='Date', ylabel='Positive Tests',\n",
    "       title='COVID Test Data for Oregon')\n",
    "ax.grid()\n",
    "\n",
    "fig.savefig(\"myplot.png\")\n",
    "plt.show()"
   ]
  },
  {
   "cell_type": "markdown",
   "metadata": {},
   "source": [
    "### Conclusion\n",
    "\n",
    "I think that's enough for now. What we need to do now is generate some of our own data and import the csv data file to plot."
   ]
  },
  {
   "cell_type": "code",
   "execution_count": null,
   "metadata": {},
   "outputs": [],
   "source": []
  }
 ],
 "metadata": {
  "kernelspec": {
   "display_name": "Python 3",
   "language": "python",
   "name": "python3"
  },
  "language_info": {
   "codemirror_mode": {
    "name": "ipython",
    "version": 3
   },
   "file_extension": ".py",
   "mimetype": "text/x-python",
   "name": "python",
   "nbconvert_exporter": "python",
   "pygments_lexer": "ipython3",
   "version": "3.7.7"
  }
 },
 "nbformat": 4,
 "nbformat_minor": 4
}
